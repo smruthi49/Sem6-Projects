{
 "cells": [
  {
   "cell_type": "markdown",
   "metadata": {},
   "source": [
    "# Fine Tuning Transformer for Summary Generation"
   ]
  },
  {
   "cell_type": "markdown",
   "metadata": {},
   "source": [
    "***Abstractive Summary***: The network creates new sentences to encapsulate maximum gist of the article and generates that as output. The sentences in the summary may or may not be contained in the article. \n",
    "\n",
    "- **Data**:\n",
    "\t- We are using the BBC News Summary dataset available at [Kaggle](https://www.kaggle.com/datasets/pariza/bbc-news-summary)\n",
    "\t- This dataset for extractive text summarization has four hundred and seventeen political news articles of BBC from 2004 to 2005 in the News Articles folder.\n",
    "\n",
    "- **Language Model Used**:   \n",
    "    - ***T5*** is an encoder-decoder model pre-trained on a multi-task mixture of unsupervised and supervised tasks and for which each task is converted into a text-to-text format. T5 works well on a variety of tasks out-of-the-box by prepending a different prefix to the input corresponding to each task.\n"
   ]
  },
  {
   "cell_type": "markdown",
   "metadata": {},
   "source": [
    "## Installing Libraries"
   ]
  },
  {
   "cell_type": "code",
   "execution_count": 1,
   "metadata": {
    "execution": {
     "iopub.execute_input": "2024-04-06T06:15:23.548804Z",
     "iopub.status.busy": "2024-04-06T06:15:23.548400Z",
     "iopub.status.idle": "2024-04-06T06:15:41.709548Z",
     "shell.execute_reply": "2024-04-06T06:15:41.708519Z",
     "shell.execute_reply.started": "2024-04-06T06:15:23.548765Z"
    },
    "id": "WD_vnyLXZQzD",
    "outputId": "b2ff57b8-a147-4893-80bd-e40d18042f98"
   },
   "outputs": [
    {
     "name": "stdout",
     "output_type": "stream",
     "text": [
      "\u001b[33mWARNING: You are using pip version 20.1; however, version 24.0 is available.\n",
      "You should consider upgrading via the '/opt/conda/bin/python3.7 -m pip install --upgrade pip' command.\u001b[0m\n",
      "Collecting rouge-score\n",
      "  Downloading rouge_score-0.1.2.tar.gz (17 kB)\n",
      "Requirement already satisfied: absl-py in /opt/conda/lib/python3.7/site-packages (from rouge-score) (0.9.0)\n",
      "Requirement already satisfied: nltk in /opt/conda/lib/python3.7/site-packages (from rouge-score) (3.2.4)\n",
      "Requirement already satisfied: numpy in /opt/conda/lib/python3.7/site-packages (from rouge-score) (1.18.1)\n",
      "Requirement already satisfied: six>=1.14.0 in /opt/conda/lib/python3.7/site-packages (from rouge-score) (1.14.0)\n",
      "Building wheels for collected packages: rouge-score\n",
      "  Building wheel for rouge-score (setup.py) ... \u001b[?25ldone\n",
      "\u001b[?25h  Created wheel for rouge-score: filename=rouge_score-0.1.2-py3-none-any.whl size=24954 sha256=2d6e61e0eadf1bc7b12045086866f19dfaee9d3115d33d9b20feb10426a3dd62\n",
      "  Stored in directory: /root/.cache/pip/wheels/84/ac/6b/38096e3c5bf1dc87911e3585875e21a3ac610348e740409c76\n",
      "Successfully built rouge-score\n",
      "Installing collected packages: rouge-score\n",
      "Successfully installed rouge-score-0.1.2\n",
      "\u001b[33mWARNING: You are using pip version 20.1; however, version 24.0 is available.\n",
      "You should consider upgrading via the '/opt/conda/bin/python3.7 -m pip install --upgrade pip' command.\u001b[0m\n"
     ]
    }
   ],
   "source": [
    "!pip install transformers -q\n",
    "!pip install rouge-score"
   ]
  },
  {
   "cell_type": "code",
   "execution_count": 2,
   "metadata": {
    "execution": {
     "iopub.execute_input": "2024-04-06T06:15:41.712372Z",
     "iopub.status.busy": "2024-04-06T06:15:41.712048Z",
     "iopub.status.idle": "2024-04-06T06:15:49.276223Z",
     "shell.execute_reply": "2024-04-06T06:15:49.275146Z",
     "shell.execute_reply.started": "2024-04-06T06:15:41.712338Z"
    }
   },
   "outputs": [],
   "source": [
    "import nltk\n",
    "import seaborn as sns \n",
    "import matplotlib.pyplot as plt\n",
    "import numpy as np\n",
    "import pandas as pd\n",
    "import warnings\n",
    "import os\n",
    "\n",
    "import torch\n",
    "import torch.nn.functional as F\n",
    "from torch.utils.data import Dataset, DataLoader, RandomSampler, SequentialSampler\n",
    "\n",
    "# Importing the T5 modules from huggingface/transformers\n",
    "from transformers import T5Tokenizer, T5ForConditionalGeneration"
   ]
  },
  {
   "cell_type": "markdown",
   "metadata": {},
   "source": [
    "### Sentence Similarity"
   ]
  },
  {
   "cell_type": "code",
   "execution_count": 3,
   "metadata": {
    "execution": {
     "iopub.execute_input": "2024-04-06T06:15:49.278386Z",
     "iopub.status.busy": "2024-04-06T06:15:49.278065Z",
     "iopub.status.idle": "2024-04-06T06:15:49.285475Z",
     "shell.execute_reply": "2024-04-06T06:15:49.284390Z",
     "shell.execute_reply.started": "2024-04-06T06:15:49.278352Z"
    }
   },
   "outputs": [],
   "source": [
    "def sentence_similarity(sent1,sent2,embed):  \n",
    "    A = embed([sent1])[0]\n",
    "    B = embed([sent2])[0]\n",
    "    return 1 - (np.dot(A,B)/(np.linalg.norm(A)*np.linalg.norm(B)))"
   ]
  },
  {
   "cell_type": "markdown",
   "metadata": {},
   "source": [
    "### BLEU Score"
   ]
  },
  {
   "cell_type": "code",
   "execution_count": 4,
   "metadata": {
    "execution": {
     "iopub.execute_input": "2024-04-06T06:15:49.287473Z",
     "iopub.status.busy": "2024-04-06T06:15:49.287146Z",
     "iopub.status.idle": "2024-04-06T06:15:49.301902Z",
     "shell.execute_reply": "2024-04-06T06:15:49.301074Z",
     "shell.execute_reply.started": "2024-04-06T06:15:49.287442Z"
    }
   },
   "outputs": [],
   "source": [
    "# hypothesis = Summarized_Text\n",
    "# reference = actual_summary\n",
    "# BLEUscore = nltk.translate.bleu_score.sentence_bleu([reference], hypothesis)\n",
    "# print(f\"BLEUscore : {BLEUscore}\")"
   ]
  },
  {
   "cell_type": "markdown",
   "metadata": {},
   "source": [
    "### Similarity Score"
   ]
  },
  {
   "cell_type": "code",
   "execution_count": 5,
   "metadata": {
    "execution": {
     "iopub.execute_input": "2024-04-06T06:15:49.306260Z",
     "iopub.status.busy": "2024-04-06T06:15:49.305949Z",
     "iopub.status.idle": "2024-04-06T06:15:49.319551Z",
     "shell.execute_reply": "2024-04-06T06:15:49.318677Z",
     "shell.execute_reply.started": "2024-04-06T06:15:49.306230Z"
    }
   },
   "outputs": [],
   "source": [
    "# print(f\"Senetence Similarity Score : {sentence_similarity(Summarized_Text, actual_summary, embed)}\")"
   ]
  },
  {
   "cell_type": "code",
   "execution_count": 6,
   "metadata": {
    "execution": {
     "iopub.execute_input": "2024-04-06T06:15:49.322715Z",
     "iopub.status.busy": "2024-04-06T06:15:49.322403Z",
     "iopub.status.idle": "2024-04-06T06:16:03.591498Z",
     "shell.execute_reply": "2024-04-06T06:16:03.590448Z",
     "shell.execute_reply.started": "2024-04-06T06:15:49.322684Z"
    }
   },
   "outputs": [],
   "source": [
    "paths = os.listdir('../input/bbc-news-summary/BBC News Summary/News Articles')\n",
    "articles_path = '../input/bbc-news-summary/BBC News Summary/News Articles/'\n",
    "summaries_path = '../input/bbc-news-summary/BBC News Summary/Summaries/'\n",
    "\n",
    "articles = []\n",
    "summaries = []\n",
    "file_arr = []\n",
    "\n",
    "for path in paths:\n",
    "    files = os.listdir(articles_path + path)\n",
    "    for file in files:\n",
    "        article_file_path = articles_path + path + '/' + file\n",
    "        summary_file_path = summaries_path + path + '/' + file\n",
    "        try:\n",
    "            with open (article_file_path,'r') as f:\n",
    "                articles.append('.'.join([line.rstrip() for line in f.readlines()]))\n",
    "            with open (summary_file_path,'r') as f:\n",
    "                summaries.append('.'.join([line.rstrip() for line in f.readlines()]))\n",
    "            file_arr.append(path + '/' + file)\n",
    "        except:\n",
    "            pass"
   ]
  },
  {
   "cell_type": "code",
   "execution_count": 7,
   "metadata": {
    "execution": {
     "iopub.execute_input": "2024-04-06T06:16:03.593344Z",
     "iopub.status.busy": "2024-04-06T06:16:03.593024Z",
     "iopub.status.idle": "2024-04-06T06:16:03.619790Z",
     "shell.execute_reply": "2024-04-06T06:16:03.618883Z",
     "shell.execute_reply.started": "2024-04-06T06:16:03.593312Z"
    }
   },
   "outputs": [
    {
     "data": {
      "text/html": [
       "<div>\n",
       "<style scoped>\n",
       "    .dataframe tbody tr th:only-of-type {\n",
       "        vertical-align: middle;\n",
       "    }\n",
       "\n",
       "    .dataframe tbody tr th {\n",
       "        vertical-align: top;\n",
       "    }\n",
       "\n",
       "    .dataframe thead th {\n",
       "        text-align: right;\n",
       "    }\n",
       "</style>\n",
       "<table border=\"1\" class=\"dataframe\">\n",
       "  <thead>\n",
       "    <tr style=\"text-align: right;\">\n",
       "      <th></th>\n",
       "      <th>path</th>\n",
       "      <th>article</th>\n",
       "      <th>summary</th>\n",
       "    </tr>\n",
       "  </thead>\n",
       "  <tbody>\n",
       "    <tr>\n",
       "      <th>0</th>\n",
       "      <td>politics/361.txt</td>\n",
       "      <td>Budget to set scene for election..Gordon Brown will seek to put the economy at the centre of Labour's bid for a third term in power when he delivers his ninth Budget at 1230 GMT. He is expected to...</td>\n",
       "      <td>- Increase in the stamp duty threshold from £60,000 - A freeze on petrol duty - An extension of tax credit scheme for poorer families - Possible help for pensioners The stamp duty threshold rise i...</td>\n",
       "    </tr>\n",
       "    <tr>\n",
       "      <th>1</th>\n",
       "      <td>politics/245.txt</td>\n",
       "      <td>Army chiefs in regiments decision..Military chiefs are expected to meet to make a final decision on the future of Scotland's Army regiments...A committee of the Army Board, which is made up of the...</td>\n",
       "      <td>\"They are very much not for the good and will destroy Scotland's regiments by moulding them into a single super regiment which will lead to severe recruitment problems, a loss of local connections...</td>\n",
       "    </tr>\n",
       "  </tbody>\n",
       "</table>\n",
       "</div>"
      ],
      "text/plain": [
       "               path  \\\n",
       "0  politics/361.txt   \n",
       "1  politics/245.txt   \n",
       "\n",
       "                                                                                                                                                                                                   article  \\\n",
       "0  Budget to set scene for election..Gordon Brown will seek to put the economy at the centre of Labour's bid for a third term in power when he delivers his ninth Budget at 1230 GMT. He is expected to...   \n",
       "1  Army chiefs in regiments decision..Military chiefs are expected to meet to make a final decision on the future of Scotland's Army regiments...A committee of the Army Board, which is made up of the...   \n",
       "\n",
       "                                                                                                                                                                                                   summary  \n",
       "0  - Increase in the stamp duty threshold from £60,000 - A freeze on petrol duty - An extension of tax credit scheme for poorer families - Possible help for pensioners The stamp duty threshold rise i...  \n",
       "1  \"They are very much not for the good and will destroy Scotland's regiments by moulding them into a single super regiment which will lead to severe recruitment problems, a loss of local connections...  "
      ]
     },
     "execution_count": 7,
     "metadata": {},
     "output_type": "execute_result"
    }
   ],
   "source": [
    "pd.set_option('display.max_colwidth', 200)\n",
    "data = pd.DataFrame({'path':file_arr,'article': articles,'summary':summaries})\n",
    "data.head(2)"
   ]
  },
  {
   "cell_type": "code",
   "execution_count": 8,
   "metadata": {
    "execution": {
     "iopub.execute_input": "2024-04-06T06:16:03.621862Z",
     "iopub.status.busy": "2024-04-06T06:16:03.621493Z",
     "iopub.status.idle": "2024-04-06T06:16:03.636785Z",
     "shell.execute_reply": "2024-04-06T06:16:03.636018Z",
     "shell.execute_reply.started": "2024-04-06T06:16:03.621827Z"
    }
   },
   "outputs": [
    {
     "data": {
      "text/html": [
       "<div>\n",
       "<style scoped>\n",
       "    .dataframe tbody tr th:only-of-type {\n",
       "        vertical-align: middle;\n",
       "    }\n",
       "\n",
       "    .dataframe tbody tr th {\n",
       "        vertical-align: top;\n",
       "    }\n",
       "\n",
       "    .dataframe thead th {\n",
       "        text-align: right;\n",
       "    }\n",
       "</style>\n",
       "<table border=\"1\" class=\"dataframe\">\n",
       "  <thead>\n",
       "    <tr style=\"text-align: right;\">\n",
       "      <th></th>\n",
       "      <th>path</th>\n",
       "      <th>text</th>\n",
       "      <th>ctext</th>\n",
       "    </tr>\n",
       "  </thead>\n",
       "  <tbody>\n",
       "    <tr>\n",
       "      <th>0</th>\n",
       "      <td>politics/361.txt</td>\n",
       "      <td>Budget to set scene for election..Gordon Brown will seek to put the economy at the centre of Labour's bid for a third term in power when he delivers his ninth Budget at 1230 GMT. He is expected to...</td>\n",
       "      <td>- Increase in the stamp duty threshold from £60,000 - A freeze on petrol duty - An extension of tax credit scheme for poorer families - Possible help for pensioners The stamp duty threshold rise i...</td>\n",
       "    </tr>\n",
       "    <tr>\n",
       "      <th>1</th>\n",
       "      <td>politics/245.txt</td>\n",
       "      <td>Army chiefs in regiments decision..Military chiefs are expected to meet to make a final decision on the future of Scotland's Army regiments...A committee of the Army Board, which is made up of the...</td>\n",
       "      <td>\"They are very much not for the good and will destroy Scotland's regiments by moulding them into a single super regiment which will lead to severe recruitment problems, a loss of local connections...</td>\n",
       "    </tr>\n",
       "  </tbody>\n",
       "</table>\n",
       "</div>"
      ],
      "text/plain": [
       "               path  \\\n",
       "0  politics/361.txt   \n",
       "1  politics/245.txt   \n",
       "\n",
       "                                                                                                                                                                                                      text  \\\n",
       "0  Budget to set scene for election..Gordon Brown will seek to put the economy at the centre of Labour's bid for a third term in power when he delivers his ninth Budget at 1230 GMT. He is expected to...   \n",
       "1  Army chiefs in regiments decision..Military chiefs are expected to meet to make a final decision on the future of Scotland's Army regiments...A committee of the Army Board, which is made up of the...   \n",
       "\n",
       "                                                                                                                                                                                                     ctext  \n",
       "0  - Increase in the stamp duty threshold from £60,000 - A freeze on petrol duty - An extension of tax credit scheme for poorer families - Possible help for pensioners The stamp duty threshold rise i...  \n",
       "1  \"They are very much not for the good and will destroy Scotland's regiments by moulding them into a single super regiment which will lead to severe recruitment problems, a loss of local connections...  "
      ]
     },
     "execution_count": 8,
     "metadata": {},
     "output_type": "execute_result"
    }
   ],
   "source": [
    "data = data.rename(columns = {'article':'text', 'summary':'ctext'})\n",
    "data.head(2)"
   ]
  },
  {
   "cell_type": "code",
   "execution_count": 9,
   "metadata": {
    "execution": {
     "iopub.execute_input": "2024-04-06T06:16:03.638584Z",
     "iopub.status.busy": "2024-04-06T06:16:03.638229Z",
     "iopub.status.idle": "2024-04-06T06:16:04.710335Z",
     "shell.execute_reply": "2024-04-06T06:16:04.709405Z",
     "shell.execute_reply.started": "2024-04-06T06:16:03.638550Z"
    },
    "id": "KvPxXdKJguYB",
    "outputId": "6c523635-a25a-429b-cbd8-7b8bf9636972"
   },
   "outputs": [
    {
     "name": "stdout",
     "output_type": "stream",
     "text": [
      "Sat Apr  6 06:16:04 2024       \n",
      "+---------------------------------------------------------------------------------------+\n",
      "| NVIDIA-SMI 535.129.03             Driver Version: 535.129.03   CUDA Version: 12.2     |\n",
      "|-----------------------------------------+----------------------+----------------------+\n",
      "| GPU  Name                 Persistence-M | Bus-Id        Disp.A | Volatile Uncorr. ECC |\n",
      "| Fan  Temp   Perf          Pwr:Usage/Cap |         Memory-Usage | GPU-Util  Compute M. |\n",
      "|                                         |                      |               MIG M. |\n",
      "|=========================================+======================+======================|\n",
      "|   0  Tesla P100-PCIE-16GB           Off | 00000000:00:04.0 Off |                    0 |\n",
      "| N/A   38C    P0              27W / 250W |      0MiB / 16384MiB |      0%      Default |\n",
      "|                                         |                      |                  N/A |\n",
      "+-----------------------------------------+----------------------+----------------------+\n",
      "                                                                                         \n",
      "+---------------------------------------------------------------------------------------+\n",
      "| Processes:                                                                            |\n",
      "|  GPU   GI   CI        PID   Type   Process name                            GPU Memory |\n",
      "|        ID   ID                                                             Usage      |\n",
      "|=======================================================================================|\n",
      "|  No running processes found                                                           |\n",
      "+---------------------------------------------------------------------------------------+\n"
     ]
    }
   ],
   "source": [
    "# Checking out the GPU we have access to. \n",
    "!nvidia-smi"
   ]
  },
  {
   "cell_type": "code",
   "execution_count": 10,
   "metadata": {
    "execution": {
     "iopub.execute_input": "2024-04-06T06:16:04.712256Z",
     "iopub.status.busy": "2024-04-06T06:16:04.711924Z",
     "iopub.status.idle": "2024-04-06T06:16:04.739806Z",
     "shell.execute_reply": "2024-04-06T06:16:04.738869Z",
     "shell.execute_reply.started": "2024-04-06T06:16:04.712222Z"
    },
    "id": "NLxxwd1scQNv"
   },
   "outputs": [],
   "source": [
    "#Setting up the device for GPU usage\n",
    "from torch import cuda\n",
    "device = 'cuda' if cuda.is_available() else 'cpu'"
   ]
  },
  {
   "cell_type": "markdown",
   "metadata": {},
   "source": [
    "<a id='section02'></a>\n",
    "### Preparing the Dataset for data processing: Class\n",
    "\n",
    "We will start with creation of Dataset class - This defines how the text is pre-processed before sending it to the neural network. This dataset will be used the the Dataloader method that will feed  the data in batches to the neural network for suitable training and processing. \n",
    "Dataset and Dataloader are constructs of the PyTorch library for defining and controlling the data pre-processing and its passage to neural network.\n",
    "\n",
    "#### *CustomDataset* Dataset Class\n",
    "- This class is defined to accept the Dataframe as input and generate tokenized output that is used by the **T5** model for training. \n",
    "- We are using the **T5** tokenizer to tokenize the data in the `text` and `ctext` column of the dataframe. \n",
    "- The tokenizer uses the ` batch_encode_plus` method to perform tokenization and generate the necessary outputs, namely: `source_id`, `source_mask` from the actual text and `target_id` and `target_mask` from the summary text.\n",
    "- The *CustomDataset* class is used to create 2 datasets, for training and for validation.\n",
    "- *Training Dataset* is used to fine tune the model: **80% of the original data**\n",
    "- *Validation Dataset* is used to evaluate the performance of the model. The model has not seen this data during training. \n"
   ]
  },
  {
   "cell_type": "markdown",
   "metadata": {},
   "source": [
    "#### Creating a custom dataset for reading the dataframe and loading it into the dataloader to pass it to the neural network at a later stage for finetuning the model and to prepare it for predictions"
   ]
  },
  {
   "cell_type": "code",
   "execution_count": 11,
   "metadata": {
    "execution": {
     "iopub.execute_input": "2024-04-06T06:16:04.741538Z",
     "iopub.status.busy": "2024-04-06T06:16:04.741245Z",
     "iopub.status.idle": "2024-04-06T06:16:04.760760Z",
     "shell.execute_reply": "2024-04-06T06:16:04.759567Z",
     "shell.execute_reply.started": "2024-04-06T06:16:04.741508Z"
    },
    "id": "932p8NhxeNw4"
   },
   "outputs": [],
   "source": [
    "class CustomDataset(Dataset):\n",
    "\n",
    "    def __init__(self, dataframe, tokenizer, source_len, summ_len):\n",
    "        self.tokenizer = tokenizer\n",
    "        self.data = dataframe\n",
    "        self.source_len = source_len\n",
    "        self.summ_len = summ_len\n",
    "        self.text = self.data.text\n",
    "        self.ctext = self.data.ctext\n",
    "\n",
    "    def __len__(self):\n",
    "        return len(self.text)\n",
    "\n",
    "    def __getitem__(self, index):\n",
    "        ctext = str(self.ctext[index])\n",
    "        ctext = ' '.join(ctext.split())\n",
    "\n",
    "        text = str(self.text[index])\n",
    "        text = ' '.join(text.split())\n",
    "\n",
    "        source = self.tokenizer.batch_encode_plus([ctext], max_length= self.source_len, pad_to_max_length=True,return_tensors='pt')\n",
    "        target = self.tokenizer.batch_encode_plus([text], max_length= self.summ_len, pad_to_max_length=True,return_tensors='pt')\n",
    "\n",
    "        source_ids = source['input_ids'].squeeze()\n",
    "        source_mask = source['attention_mask'].squeeze()\n",
    "        target_ids = target['input_ids'].squeeze()\n",
    "        target_mask = target['attention_mask'].squeeze()\n",
    "\n",
    "        return {\n",
    "            'source_ids': source_ids.to(dtype=torch.long), \n",
    "            'source_mask': source_mask.to(dtype=torch.long), \n",
    "            'target_ids': target_ids.to(dtype=torch.long),\n",
    "            'target_ids_y': target_ids.to(dtype=torch.long)\n",
    "        }"
   ]
  },
  {
   "cell_type": "markdown",
   "metadata": {},
   "source": [
    "<a id='section03'></a>\n",
    "### Fine Tuning the Model: Function\n",
    "\n",
    "Here we define a training function that trains the model on the training dataset created above, specified number of times (EPOCH), An epoch defines how many times the complete data will be passed through the network. \n",
    "\n",
    "Following events happen to fine tune the neural network:\n",
    "- The epoch, tokenizer, model, device details, testing_ dataloader and optimizer are passed to the `train ()` when its called from the `main()`\n",
    "- The dataloader passes data to the model based on the batch size.\n",
    "- `language_model_labels` are calculated from the `target_ids` also, `source_id` and `attention_mask` are extracted.\n",
    "- The model outputs first element gives the loss for the forward pass. \n",
    "- Loss value is used to optimize the weights of the neurons in the network.\n",
    "- After every 500 steps the loss value is printed in the console."
   ]
  },
  {
   "cell_type": "markdown",
   "metadata": {},
   "source": [
    "#### Creating the training function. This will be called in the main function. It is run depending on the epoch value. The model is put into train mode and then we enumerate over the training loader and passed to the defined network \n"
   ]
  },
  {
   "cell_type": "code",
   "execution_count": 12,
   "metadata": {
    "execution": {
     "iopub.execute_input": "2024-04-06T06:16:04.762341Z",
     "iopub.status.busy": "2024-04-06T06:16:04.762007Z",
     "iopub.status.idle": "2024-04-06T06:16:04.777922Z",
     "shell.execute_reply": "2024-04-06T06:16:04.777064Z",
     "shell.execute_reply.started": "2024-04-06T06:16:04.762311Z"
    },
    "id": "SaPAR7TWmxoM"
   },
   "outputs": [],
   "source": [
    "# Creating the training function. This will be called in the main function. It is run depending on the epoch value.\n",
    "# The model is put into train mode and then we wnumerate over the training loader and passed to the defined network \n",
    "\n",
    "def train(epoch, tokenizer, model, device, loader, optimizer):\n",
    "    model.train()\n",
    "    for _,data in enumerate(loader, 0):\n",
    "        y = data['target_ids'].to(device, dtype = torch.long)\n",
    "        y_ids = y[:, :-1].contiguous()\n",
    "        lm_labels = y[:, 1:].clone().detach()\n",
    "        lm_labels[y[:, 1:] == tokenizer.pad_token_id] = -100\n",
    "        ids = data['source_ids'].to(device, dtype = torch.long)\n",
    "        mask = data['source_mask'].to(device, dtype = torch.long)\n",
    "\n",
    "        outputs = model(input_ids = ids, attention_mask = mask, decoder_input_ids=y_ids, lm_labels=lm_labels)\n",
    "        loss = outputs[0]\n",
    "        \n",
    "        if _%500==0:\n",
    "            print(f'Epoch: {epoch}, Loss:  {loss.item()}')\n",
    "        \n",
    "        optimizer.zero_grad()\n",
    "        loss.backward()\n",
    "        optimizer.step()"
   ]
  },
  {
   "cell_type": "markdown",
   "metadata": {},
   "source": [
    "<a id='section04'></a>\n",
    "### Validating the Model Performance: Function\n",
    "\n",
    "During the validation stage we pass the unseen data(Testing Dataset), trained model, tokenizer and device details to the function to perform the validation run. This step generates new summary for dataset that it has not seen during the training session. \n",
    "\n",
    "This unseen data is the 20% which was seperated during the Dataset creation stage. \n",
    "During the validation stage the weights of the model are not updated. We use the generate method for generating new text for the summary. \n"
   ]
  },
  {
   "cell_type": "code",
   "execution_count": 13,
   "metadata": {
    "execution": {
     "iopub.execute_input": "2024-04-06T06:16:04.779682Z",
     "iopub.status.busy": "2024-04-06T06:16:04.779269Z",
     "iopub.status.idle": "2024-04-06T06:16:04.800280Z",
     "shell.execute_reply": "2024-04-06T06:16:04.799392Z",
     "shell.execute_reply.started": "2024-04-06T06:16:04.779651Z"
    },
    "id": "j9TNdHlQ0CLz"
   },
   "outputs": [],
   "source": [
    "def validate(epoch, tokenizer, model, device, loader):\n",
    "    model.eval()\n",
    "    predictions = []\n",
    "    actuals = []\n",
    "    with torch.no_grad():\n",
    "        for _, data in enumerate(loader, 0):\n",
    "            y = data['target_ids'].to(device, dtype = torch.long)\n",
    "            ids = data['source_ids'].to(device, dtype = torch.long)\n",
    "            mask = data['source_mask'].to(device, dtype = torch.long)\n",
    "\n",
    "            generated_ids = model.generate(\n",
    "                input_ids = ids,\n",
    "                attention_mask = mask, \n",
    "                max_length=150, \n",
    "                num_beams=2,\n",
    "                repetition_penalty=2.5, \n",
    "                length_penalty=1.0, \n",
    "                early_stopping=True\n",
    "                )\n",
    "            preds = [tokenizer.decode(g, skip_special_tokens=True, clean_up_tokenization_spaces=True) for g in generated_ids]\n",
    "            target = [tokenizer.decode(t, skip_special_tokens=True, clean_up_tokenization_spaces=True)for t in y]\n",
    "            if _%100==0:\n",
    "                print(f'Completed {_}')\n",
    "\n",
    "            predictions.extend(preds)\n",
    "            actuals.extend(target)\n",
    "    return predictions, actuals"
   ]
  },
  {
   "cell_type": "markdown",
   "metadata": {},
   "source": [
    "<a id='section503'></a>\n",
    "#### Creation of Dataset and Dataloader\n",
    "\n",
    "* The updated dataframe is divided into 80-20 ratio for test and validation. \n",
    "* Both the data-frames are passed to the `CustomerDataset` class for tokenization of the new articles and their summaries.\n",
    "* The tokenization is done using the length parameters passed to the class.\n",
    "* Train and Validation parameters are defined and passed to the `pytorch Dataloader contstruct` to create `train` and `validation` data loaders.\n",
    "* These dataloaders will be passed to `train()` and `validate()` respectively for training and validation action.\n",
    "* The shape of datasets is printed in the console.\n",
    "\n",
    "\n",
    "<a id='section504'></a>\n",
    "#### Neural Network and Optimizer\n",
    "\n",
    "* In this stage we define the model and optimizer that will be used for training and to update the weights of the network. \n",
    "* We are using the `t5-base` transformer model for our project. You can read about the `T5 model` and its features above. \n",
    "* We use the `T5ForConditionalGeneration.from_pretrained(\"t5-base\")` commad to define our model. The `T5ForConditionalGeneration` adds a Language Model head to our `T5 model`. The Language Model head allows us to generate text based on the training of `T5 model`.\n",
    "* We are using the `Adam` optimizer for our project. This has been a standard for all our tutorials and is something that can be changed updated to see how different optimizer perform with different learning rates. \n",
    "* There is also a scope for doing more with Optimizer such a decay, momentum to dynamically update the Learning rate and other parameters. All those concepts have been kept out of scope for these tutorials. \n",
    "\n",
    "\n",
    "<a id='section505'></a>\n",
    "#### Training Model\n",
    "\n",
    "* We call the `train()` with all the necessary parameters.\n",
    "* Loss at every 500th step is printed on the console.\n",
    "\n",
    "\n",
    "<a id='section506'></a>\n",
    "#### Validation and generation of Summary\n",
    "\n",
    "* After the training is completed, the validation step is initiated.\n",
    "* As defined in the validation function, the model weights are not updated. We use the fine tuned model to generate new summaries based on the article text.\n",
    "* An output is printed on the console giving a count of how many steps are complete after every 100th step. \n",
    "* The original summary and generated summary are converted into a list and returned to the main function. \n",
    "* Both the lists are used to create the final dataframe with 2 columns **Generated Summary** and **Actual Summary**\n",
    "* The dataframe is saved as a csv file in the local drive.\n",
    "* A qualitative analysis can be done with the Dataframe. "
   ]
  },
  {
   "cell_type": "code",
   "execution_count": 14,
   "metadata": {
    "execution": {
     "iopub.execute_input": "2024-04-06T06:16:04.801945Z",
     "iopub.status.busy": "2024-04-06T06:16:04.801658Z",
     "iopub.status.idle": "2024-04-06T06:16:04.820972Z",
     "shell.execute_reply": "2024-04-06T06:16:04.819927Z",
     "shell.execute_reply.started": "2024-04-06T06:16:04.801916Z"
    }
   },
   "outputs": [],
   "source": [
    "TRAIN_BATCH_SIZE = 2    # input batch size for training (default: 64)\n",
    "VALID_BATCH_SIZE = 2    # input batch size for testing (default: 1000)\n",
    "TRAIN_EPOCHS = 3      # number of epochs to train (default: 10)\n",
    "VAL_EPOCHS = 1 \n",
    "LEARNING_RATE = 1e-4    # learning rate (default: 0.01)\n",
    "SEED = 42               # random seed (default: 42)\n",
    "MAX_LEN = 512\n",
    "SUMMARY_LEN = 150 "
   ]
  },
  {
   "cell_type": "code",
   "execution_count": 15,
   "metadata": {
    "execution": {
     "iopub.execute_input": "2024-04-06T06:16:04.822943Z",
     "iopub.status.busy": "2024-04-06T06:16:04.822486Z",
     "iopub.status.idle": "2024-04-06T06:16:04.838569Z",
     "shell.execute_reply": "2024-04-06T06:16:04.837690Z",
     "shell.execute_reply.started": "2024-04-06T06:16:04.822898Z"
    }
   },
   "outputs": [],
   "source": [
    "# Set random seeds and deterministic pytorch for reproducibility\n",
    "torch.manual_seed(SEED) # pytorch random seed\n",
    "np.random.seed(SEED) # numpy random seed\n",
    "torch.backends.cudnn.deterministic = True"
   ]
  },
  {
   "cell_type": "code",
   "execution_count": 16,
   "metadata": {
    "execution": {
     "iopub.execute_input": "2024-04-06T06:16:04.840592Z",
     "iopub.status.busy": "2024-04-06T06:16:04.840168Z",
     "iopub.status.idle": "2024-04-06T06:16:05.320225Z",
     "shell.execute_reply": "2024-04-06T06:16:05.319180Z",
     "shell.execute_reply.started": "2024-04-06T06:16:04.840546Z"
    }
   },
   "outputs": [
    {
     "data": {
      "application/vnd.jupyter.widget-view+json": {
       "model_id": "60e2ec831754403f9c4b3d213a69e4ec",
       "version_major": 2,
       "version_minor": 0
      },
      "text/plain": [
       "HBox(children=(FloatProgress(value=0.0, description='Downloading', max=791656.0, style=ProgressStyle(descripti…"
      ]
     },
     "metadata": {},
     "output_type": "display_data"
    },
    {
     "name": "stdout",
     "output_type": "stream",
     "text": [
      "\n"
     ]
    }
   ],
   "source": [
    "# tokenzier for encoding the text\n",
    "tokenizer = T5Tokenizer.from_pretrained(\"t5-base\")"
   ]
  },
  {
   "cell_type": "code",
   "execution_count": 17,
   "metadata": {
    "execution": {
     "iopub.execute_input": "2024-04-06T06:16:05.321860Z",
     "iopub.status.busy": "2024-04-06T06:16:05.321525Z",
     "iopub.status.idle": "2024-04-06T06:16:05.357208Z",
     "shell.execute_reply": "2024-04-06T06:16:05.356367Z",
     "shell.execute_reply.started": "2024-04-06T06:16:05.321824Z"
    }
   },
   "outputs": [
    {
     "name": "stdout",
     "output_type": "stream",
     "text": [
      "                                                                                                                                                                                                      text  \\\n",
      "0  Budget to set scene for election..Gordon Brown will seek to put the economy at the centre of Labour's bid for a third term in power when he delivers his ninth Budget at 1230 GMT. He is expected to...   \n",
      "1  Army chiefs in regiments decision..Military chiefs are expected to meet to make a final decision on the future of Scotland's Army regiments...A committee of the Army Board, which is made up of the...   \n",
      "2  Howard denies split over ID cards..Michael Howard has denied his shadow cabinet was split over its decision to back controversial Labour plans to introduce ID cards...The Tory leader said his fron...   \n",
      "3  Observers to monitor UK election..Ministers will invite international observers to check the forthcoming UK general election is fairly run...The move comes amid claims the poll could be marred by ...   \n",
      "4  Kilroy names election seat target..Ex-chat show host Robert Kilroy-Silk is to contest the Derbyshire seat of Erewash at the next general election...Labour's Elizabeth Blackman won the seat in 1997...   \n",
      "\n",
      "                                                                                                                                                                                                     ctext  \n",
      "0  summarize: - Increase in the stamp duty threshold from £60,000 - A freeze on petrol duty - An extension of tax credit scheme for poorer families - Possible help for pensioners The stamp duty thres...  \n",
      "1  summarize: \"They are very much not for the good and will destroy Scotland's regiments by moulding them into a single super regiment which will lead to severe recruitment problems, a loss of local ...  \n",
      "2  summarize: Michael Howard has denied his shadow cabinet was split over its decision to back controversial Labour plans to introduce ID cards.Mr Howard said the police had said ID cards could \"help...  \n",
      "3  summarize: The report said individual registration should be treated carefully as 12% of voters disappeared from the electoral roll in Northern Ireland when it was introduced in 2002.ODPM committe...  \n",
      "4  summarize: UKIP's leader, Roger Knapman, has said he is glad to see the back of Mr Kilroy-Silk.\"He has remarkable ability to influence people but, sadly, after the [European] election it became cl...  \n"
     ]
    },
    {
     "name": "stderr",
     "output_type": "stream",
     "text": [
      "/opt/conda/lib/python3.7/site-packages/pandas/core/generic.py:5303: SettingWithCopyWarning: \n",
      "A value is trying to be set on a copy of a slice from a DataFrame.\n",
      "Try using .loc[row_indexer,col_indexer] = value instead\n",
      "\n",
      "See the caveats in the documentation: https://pandas.pydata.org/pandas-docs/stable/user_guide/indexing.html#returning-a-view-versus-a-copy\n",
      "  self[name] = value\n"
     ]
    }
   ],
   "source": [
    "# Adding the summarzie text in front of the text. \n",
    "# This is to format the dataset similar to how T5 model was trained for summarization task. \n",
    "df = data[['text','ctext']]\n",
    "df.ctext = 'summarize: ' + df.ctext\n",
    "print(df.head())"
   ]
  },
  {
   "cell_type": "code",
   "execution_count": 18,
   "metadata": {
    "execution": {
     "iopub.execute_input": "2024-04-06T06:16:05.358667Z",
     "iopub.status.busy": "2024-04-06T06:16:05.358334Z",
     "iopub.status.idle": "2024-04-06T06:16:05.368680Z",
     "shell.execute_reply": "2024-04-06T06:16:05.367707Z",
     "shell.execute_reply.started": "2024-04-06T06:16:05.358625Z"
    }
   },
   "outputs": [],
   "source": [
    "# Creation of Dataset and Dataloader\n",
    "# Defining the train size. So 80% of the data will be used for training and the rest will be used for validation. \n",
    "train_size = 0.8\n",
    "train_dataset = df.sample(frac=train_size, random_state = SEED).reset_index(drop=True)\n",
    "val_dataset = df.drop(train_dataset.index).reset_index(drop=True)"
   ]
  },
  {
   "cell_type": "code",
   "execution_count": 19,
   "metadata": {
    "execution": {
     "iopub.execute_input": "2024-04-06T06:16:05.370290Z",
     "iopub.status.busy": "2024-04-06T06:16:05.369977Z",
     "iopub.status.idle": "2024-04-06T06:16:05.381518Z",
     "shell.execute_reply": "2024-04-06T06:16:05.380380Z",
     "shell.execute_reply.started": "2024-04-06T06:16:05.370258Z"
    }
   },
   "outputs": [
    {
     "name": "stdout",
     "output_type": "stream",
     "text": [
      "FULL Dataset: (2224, 2)\n",
      "TRAIN Dataset: (1779, 2)\n",
      "TEST Dataset: (445, 2)\n"
     ]
    }
   ],
   "source": [
    "print(\"FULL Dataset: {}\".format(df.shape))\n",
    "print(\"TRAIN Dataset: {}\".format(train_dataset.shape))\n",
    "print(\"TEST Dataset: {}\".format(val_dataset.shape))"
   ]
  },
  {
   "cell_type": "code",
   "execution_count": 20,
   "metadata": {
    "execution": {
     "iopub.execute_input": "2024-04-06T06:16:05.383674Z",
     "iopub.status.busy": "2024-04-06T06:16:05.383213Z",
     "iopub.status.idle": "2024-04-06T06:16:05.394402Z",
     "shell.execute_reply": "2024-04-06T06:16:05.393557Z",
     "shell.execute_reply.started": "2024-04-06T06:16:05.383629Z"
    }
   },
   "outputs": [],
   "source": [
    "# Creating the Training and Validation dataset for further creation of Dataloader\n",
    "training_set = CustomDataset(train_dataset, tokenizer, MAX_LEN, SUMMARY_LEN)\n",
    "val_set = CustomDataset(val_dataset, tokenizer, MAX_LEN, SUMMARY_LEN)"
   ]
  },
  {
   "cell_type": "code",
   "execution_count": 21,
   "metadata": {
    "execution": {
     "iopub.execute_input": "2024-04-06T06:16:05.396221Z",
     "iopub.status.busy": "2024-04-06T06:16:05.395793Z",
     "iopub.status.idle": "2024-04-06T06:16:05.406561Z",
     "shell.execute_reply": "2024-04-06T06:16:05.405895Z",
     "shell.execute_reply.started": "2024-04-06T06:16:05.396177Z"
    }
   },
   "outputs": [],
   "source": [
    "# Defining the parameters for creation of dataloaders\n",
    "train_params = {\n",
    "    'batch_size': TRAIN_BATCH_SIZE,\n",
    "    'shuffle': True,\n",
    "    'num_workers': 0\n",
    "}\n",
    "\n",
    "val_params = {\n",
    "    'batch_size': VALID_BATCH_SIZE,\n",
    "    'shuffle': False,\n",
    "    'num_workers': 0\n",
    "    }"
   ]
  },
  {
   "cell_type": "code",
   "execution_count": 22,
   "metadata": {
    "execution": {
     "iopub.execute_input": "2024-04-06T06:16:05.408341Z",
     "iopub.status.busy": "2024-04-06T06:16:05.408028Z",
     "iopub.status.idle": "2024-04-06T06:16:05.419645Z",
     "shell.execute_reply": "2024-04-06T06:16:05.418849Z",
     "shell.execute_reply.started": "2024-04-06T06:16:05.408300Z"
    }
   },
   "outputs": [],
   "source": [
    "# Creation of Dataloaders for testing and validation. This will be used down for training and validation stage for the model.\n",
    "training_loader = DataLoader(training_set, **train_params)\n",
    "val_loader = DataLoader(val_set, **val_params)"
   ]
  },
  {
   "cell_type": "code",
   "execution_count": 23,
   "metadata": {
    "execution": {
     "iopub.execute_input": "2024-04-06T06:16:05.421259Z",
     "iopub.status.busy": "2024-04-06T06:16:05.420946Z",
     "iopub.status.idle": "2024-04-06T06:16:44.429450Z",
     "shell.execute_reply": "2024-04-06T06:16:44.428385Z",
     "shell.execute_reply.started": "2024-04-06T06:16:05.421229Z"
    }
   },
   "outputs": [
    {
     "data": {
      "application/vnd.jupyter.widget-view+json": {
       "model_id": "32e30beaf2894a119066d4cab5ec343c",
       "version_major": 2,
       "version_minor": 0
      },
      "text/plain": [
       "HBox(children=(FloatProgress(value=0.0, description='Downloading', max=1199.0, style=ProgressStyle(description…"
      ]
     },
     "metadata": {},
     "output_type": "display_data"
    },
    {
     "name": "stdout",
     "output_type": "stream",
     "text": [
      "\n"
     ]
    },
    {
     "data": {
      "application/vnd.jupyter.widget-view+json": {
       "model_id": "c7f9bdb14daa4bda8dc7cd662404575c",
       "version_major": 2,
       "version_minor": 0
      },
      "text/plain": [
       "HBox(children=(FloatProgress(value=0.0, description='Downloading', max=891691430.0, style=ProgressStyle(descri…"
      ]
     },
     "metadata": {},
     "output_type": "display_data"
    },
    {
     "name": "stdout",
     "output_type": "stream",
     "text": [
      "\n"
     ]
    }
   ],
   "source": [
    "# Defining the model. We are using t5-base model and added a Language model layer on top for generation of Summary. \n",
    "# Further this model is sent to device (GPU/TPU) for using the hardware.\n",
    "model = T5ForConditionalGeneration.from_pretrained(\"t5-base\")\n",
    "model = model.to(device)"
   ]
  },
  {
   "cell_type": "code",
   "execution_count": 24,
   "metadata": {
    "execution": {
     "iopub.execute_input": "2024-04-06T06:16:44.431179Z",
     "iopub.status.busy": "2024-04-06T06:16:44.430877Z",
     "iopub.status.idle": "2024-04-06T06:16:44.438391Z",
     "shell.execute_reply": "2024-04-06T06:16:44.437380Z",
     "shell.execute_reply.started": "2024-04-06T06:16:44.431149Z"
    }
   },
   "outputs": [],
   "source": [
    "# Defining the optimizer that will be used to tune the weights of the network in the training session. \n",
    "optimizer = torch.optim.Adam(params =  model.parameters(), lr=LEARNING_RATE)"
   ]
  },
  {
   "cell_type": "code",
   "execution_count": 25,
   "metadata": {
    "execution": {
     "iopub.execute_input": "2024-04-06T06:16:44.440152Z",
     "iopub.status.busy": "2024-04-06T06:16:44.439812Z",
     "iopub.status.idle": "2024-04-06T06:28:34.719173Z",
     "shell.execute_reply": "2024-04-06T06:28:34.718217Z",
     "shell.execute_reply.started": "2024-04-06T06:16:44.440098Z"
    }
   },
   "outputs": [
    {
     "name": "stdout",
     "output_type": "stream",
     "text": [
      "Initiating Fine-Tuning for the model on our dataset\n",
      "Epoch: 0, Loss:  9.133647918701172\n",
      "Epoch: 0, Loss:  2.6999082565307617\n",
      "Epoch: 1, Loss:  1.5452290773391724\n",
      "Epoch: 1, Loss:  1.6306101083755493\n",
      "Epoch: 2, Loss:  1.0321205854415894\n",
      "Epoch: 2, Loss:  1.3978021144866943\n"
     ]
    }
   ],
   "source": [
    "# Training loop\n",
    "print('Initiating Fine-Tuning for the model on our dataset')\n",
    "\n",
    "for epoch in range(TRAIN_EPOCHS):\n",
    "    train(epoch, tokenizer, model, device, training_loader, optimizer)"
   ]
  },
  {
   "cell_type": "code",
   "execution_count": 26,
   "metadata": {
    "execution": {
     "iopub.execute_input": "2024-04-06T06:28:34.721313Z",
     "iopub.status.busy": "2024-04-06T06:28:34.720916Z",
     "iopub.status.idle": "2024-04-06T06:52:09.318187Z",
     "shell.execute_reply": "2024-04-06T06:52:09.317155Z",
     "shell.execute_reply.started": "2024-04-06T06:28:34.721270Z"
    }
   },
   "outputs": [
    {
     "name": "stdout",
     "output_type": "stream",
     "text": [
      "Now generating summaries on our fine tuned model for the validation dataset and saving it in a dataframe\n",
      "Completed 0\n",
      "Completed 100\n",
      "Completed 200\n",
      "Output Files generated for review\n"
     ]
    }
   ],
   "source": [
    "# Validation loop and saving the resulting file with predictions and acutals in a dataframe.\n",
    "# Saving the dataframe as predictions.csv\n",
    "print('Now generating summaries on our fine tuned model for the validation dataset and saving it in a dataframe')\n",
    "for epoch in range(VAL_EPOCHS):\n",
    "    predictions, actuals = validate(epoch, tokenizer, model, device, val_loader)\n",
    "    final_df = pd.DataFrame({'Generated Text':predictions,'Actual Text':actuals})\n",
    "    final_df.to_csv('predictions.csv')\n",
    "    print('Output Files generated for review')\n"
   ]
  },
  {
   "cell_type": "markdown",
   "metadata": {},
   "source": [
    "### Checking Prediction Files"
   ]
  },
  {
   "cell_type": "code",
   "execution_count": 27,
   "metadata": {
    "execution": {
     "iopub.execute_input": "2024-04-06T06:52:09.320005Z",
     "iopub.status.busy": "2024-04-06T06:52:09.319728Z",
     "iopub.status.idle": "2024-04-06T06:52:09.342558Z",
     "shell.execute_reply": "2024-04-06T06:52:09.341669Z",
     "shell.execute_reply.started": "2024-04-06T06:52:09.319973Z"
    }
   },
   "outputs": [
    {
     "data": {
      "text/html": [
       "<div>\n",
       "<style scoped>\n",
       "    .dataframe tbody tr th:only-of-type {\n",
       "        vertical-align: middle;\n",
       "    }\n",
       "\n",
       "    .dataframe tbody tr th {\n",
       "        vertical-align: top;\n",
       "    }\n",
       "\n",
       "    .dataframe thead th {\n",
       "        text-align: right;\n",
       "    }\n",
       "</style>\n",
       "<table border=\"1\" class=\"dataframe\">\n",
       "  <thead>\n",
       "    <tr style=\"text-align: right;\">\n",
       "      <th></th>\n",
       "      <th>Unnamed: 0</th>\n",
       "      <th>Generated Text</th>\n",
       "      <th>Actual Text</th>\n",
       "    </tr>\n",
       "  </thead>\n",
       "  <tbody>\n",
       "    <tr>\n",
       "      <th>0</th>\n",
       "      <td>0</td>\n",
       "      <td>The £10bn Crossrail transport plan, backed by business groups and is getting the go-ahead this month. It says that UK Treasury has allocated £7.5 billion ($13.99 Billion) for it; talks with busine...</td>\n",
       "      <td>Crossrail link 'to get go-ahead'..The £10bn Crossrail transport plan, backed by business groups, is to get the go-ahead this month, according to The Mail on Sunday...It says the UK Treasury has al...</td>\n",
       "    </tr>\n",
       "    <tr>\n",
       "      <th>1</th>\n",
       "      <td>1</td>\n",
       "      <td>The majority owner of embattled Russian oil firm Yukos has sued the Russia's government for $28.3bn (£15.2m). Group Menatep, whose shares are held by 51% of its unit Yugansky, says this was illega...</td>\n",
       "      <td>Yukos owner sues Russia for $28bn..The majority owner of embattled Russian oil firm Yukos has sued the Russian government for $28.3bn (£15.2bn)...The Kremlin last year seized and sold Yukos' main ...</td>\n",
       "    </tr>\n",
       "    <tr>\n",
       "      <th>2</th>\n",
       "      <td>2</td>\n",
       "      <td>A US government claim accusing the country's biggest tobacco companies of covering upthe effects and smoking has been thrown out by an appeal court...In its case, it claimed tobacco firms had ille...</td>\n",
       "      <td>Court rejects $280bn tobacco case..A US government claim accusing the country's biggest tobacco companies of covering up the effects of smoking has been thrown out by an appeal court...The demand ...</td>\n",
       "    </tr>\n",
       "    <tr>\n",
       "      <th>3</th>\n",
       "      <td>3</td>\n",
       "      <td>Ireland's economic -miracle\" is enjoying another wind, with 55% growth forecast for 2005...The ISEQ index of leading shares closed up 23 points to 661.89 on Thursday and fuelled by strong expansio...</td>\n",
       "      <td>Irish markets reach all-time high..Irish shares have risen to a record high, with investors persuaded to buy into the market by low inflation and strong growth forecasts...The ISEQ index of leadin...</td>\n",
       "    </tr>\n",
       "    <tr>\n",
       "      <th>4</th>\n",
       "      <td>4</td>\n",
       "      <td>The Pensions Policy Institute (PPI) said life expectancy for unskilled professional men has been understated...Life expectancy at birth is 71 years, and the PPI says, will be 81 to 80. But if meas...</td>\n",
       "      <td>Pension hitch for long-living men..Male life expectancy is much higher than originally estimated, leading pension researchers have said...The Pensions Policy Institute (PPI) said life expectancy f...</td>\n",
       "    </tr>\n",
       "  </tbody>\n",
       "</table>\n",
       "</div>"
      ],
      "text/plain": [
       "   Unnamed: 0  \\\n",
       "0           0   \n",
       "1           1   \n",
       "2           2   \n",
       "3           3   \n",
       "4           4   \n",
       "\n",
       "                                                                                                                                                                                            Generated Text  \\\n",
       "0  The £10bn Crossrail transport plan, backed by business groups and is getting the go-ahead this month. It says that UK Treasury has allocated £7.5 billion ($13.99 Billion) for it; talks with busine...   \n",
       "1  The majority owner of embattled Russian oil firm Yukos has sued the Russia's government for $28.3bn (£15.2m). Group Menatep, whose shares are held by 51% of its unit Yugansky, says this was illega...   \n",
       "2  A US government claim accusing the country's biggest tobacco companies of covering upthe effects and smoking has been thrown out by an appeal court...In its case, it claimed tobacco firms had ille...   \n",
       "3  Ireland's economic -miracle\" is enjoying another wind, with 55% growth forecast for 2005...The ISEQ index of leading shares closed up 23 points to 661.89 on Thursday and fuelled by strong expansio...   \n",
       "4  The Pensions Policy Institute (PPI) said life expectancy for unskilled professional men has been understated...Life expectancy at birth is 71 years, and the PPI says, will be 81 to 80. But if meas...   \n",
       "\n",
       "                                                                                                                                                                                               Actual Text  \n",
       "0  Crossrail link 'to get go-ahead'..The £10bn Crossrail transport plan, backed by business groups, is to get the go-ahead this month, according to The Mail on Sunday...It says the UK Treasury has al...  \n",
       "1  Yukos owner sues Russia for $28bn..The majority owner of embattled Russian oil firm Yukos has sued the Russian government for $28.3bn (£15.2bn)...The Kremlin last year seized and sold Yukos' main ...  \n",
       "2  Court rejects $280bn tobacco case..A US government claim accusing the country's biggest tobacco companies of covering up the effects of smoking has been thrown out by an appeal court...The demand ...  \n",
       "3  Irish markets reach all-time high..Irish shares have risen to a record high, with investors persuaded to buy into the market by low inflation and strong growth forecasts...The ISEQ index of leadin...  \n",
       "4  Pension hitch for long-living men..Male life expectancy is much higher than originally estimated, leading pension researchers have said...The Pensions Policy Institute (PPI) said life expectancy f...  "
      ]
     },
     "execution_count": 27,
     "metadata": {},
     "output_type": "execute_result"
    }
   ],
   "source": [
    "df = pd.read_csv('/kaggle/working/predictions.csv')\n",
    "df.head()"
   ]
  },
  {
   "cell_type": "code",
   "execution_count": 42,
   "metadata": {
    "execution": {
     "iopub.execute_input": "2024-04-06T07:11:45.810929Z",
     "iopub.status.busy": "2024-04-06T07:11:45.810515Z",
     "iopub.status.idle": "2024-04-06T07:11:45.815941Z",
     "shell.execute_reply": "2024-04-06T07:11:45.814931Z",
     "shell.execute_reply.started": "2024-04-06T07:11:45.810892Z"
    }
   },
   "outputs": [
    {
     "name": "stdout",
     "output_type": "stream",
     "text": [
      "ARTICLE : \n",
      "Crossrail link 'to get go-ahead'..The £10bn Crossrail transport plan, backed by business groups, is to get the go-ahead this month, according to The Mail on Sunday...It says the UK Treasury has allocated £7.5bn ($13.99bn) for the project and that talks with business groups on raising the rest will begin shortly. The much delayed Crossrail Link Bill would provide for a fast cross-London rail link. The paper says it will go before the House of Commons on 23 February...A second reading could follow on 16 or 17 March. \"We've always said we are going to introduce a hybrid Bill for Crossrail in the Spring and\n",
      "\n",
      "SUMMARY : \n",
      "The £10bn Crossrail transport plan, backed by business groups and is getting the go-ahead this month. It says that UK Treasury has allocated £7.5 billion ($13.99 Billion) for it; talks with businesses on raising more will begin shortly...The bill, which includes rail links to London, is expected in early next year. The Mail on Sunday's Financial Post said the £7.5m of government money was reserved for spending at home and abroad. \"We've always told us we are going into an hybrid Bill for crossrail in Spring but still remains true,\" the Departmental Office announced last week (April). But there were no word on whether or not the Treasury would be planning to invest £7.5b\n"
     ]
    }
   ],
   "source": [
    "print(f\"ARTICLE : \\n{df['Actual Text'].iloc[0]}\\n\\nSUMMARY : \\n{df['Generated Text'].iloc[0]}\")"
   ]
  },
  {
   "cell_type": "code",
   "execution_count": 43,
   "metadata": {
    "execution": {
     "iopub.execute_input": "2024-04-06T07:12:01.500729Z",
     "iopub.status.busy": "2024-04-06T07:12:01.500282Z",
     "iopub.status.idle": "2024-04-06T07:12:01.506517Z",
     "shell.execute_reply": "2024-04-06T07:12:01.505012Z",
     "shell.execute_reply.started": "2024-04-06T07:12:01.500688Z"
    }
   },
   "outputs": [
    {
     "name": "stdout",
     "output_type": "stream",
     "text": [
      "ARTICLE : \n",
      "Bank holds interest rate at 4.75%..The Bank of England has left interest rates on hold again at 4.75%, in a widely-predicted move...Rates went up five times from November 2003 - as the bank sought to cool the housing market and consumer debt - but have remained unchanged since August. Recent data has indicated a slowdown in manufacturing and consumer spending, as well as in mortgage approvals. And retail sales disappointed over Christmas, with analysts putting the drop down to less consumer confidence...Rising interest rates and the accompanying slowdown in the housing market have knocked consumers' optimism, causing a sharp fall in demand for expensive goods, according to a report earlier\n",
      "\n",
      "SUMMARY : \n",
      "The Bank of England has left interest rates on hold again at 4.75%, in an widely-predicted move...Rates went up five times from November 2003 and as the bank sought to cool down consumer debt. It also said there was evidence that manufacturers' confidence may be weakening because of the outlook for global economic growth becomes more uncertain...\"So far the evidence suggests that last year’s rate increases have helped \"rebalanced\" our economy without damaging the recovery in manufacturing,\" says EEF chief economist Steve Radley.\" Rising interest rates are likely will remain under pressure for some time, but it is difficult to gauge how long they will last until December or January. The Bank is having trouble juggle inflation\n"
     ]
    }
   ],
   "source": [
    "print(f\"ARTICLE : \\n{df['Actual Text'].iloc[10]}\\n\\nSUMMARY : \\n{df['Generated Text'].iloc[10]}\")"
   ]
  },
  {
   "cell_type": "code",
   "execution_count": 44,
   "metadata": {
    "execution": {
     "iopub.execute_input": "2024-04-06T07:12:16.987726Z",
     "iopub.status.busy": "2024-04-06T07:12:16.987241Z",
     "iopub.status.idle": "2024-04-06T07:12:16.992994Z",
     "shell.execute_reply": "2024-04-06T07:12:16.992056Z",
     "shell.execute_reply.started": "2024-04-06T07:12:16.987683Z"
    }
   },
   "outputs": [
    {
     "name": "stdout",
     "output_type": "stream",
     "text": [
      "ARTICLE : \n",
      "Man Utd to open books to Glazer..Manchester United's board has agreed to give US tycoon Malcolm Glazer access to its books...Earlier this month, Mr Glazer presented the board with detailed proposals on an offer to buy the football club. In a statement, the club said it would allow Mr Glazer \"limited due diligence\" to give him the opportunity to take the proposal on to a formal bid. But it said it continued to oppose Mr Glazer's plans, calling his assumptions \"aggressive\" and his plan \"damaging\". Many of Manchester United's supporters own shares in the club, and the fan-based group Shareholders United is strongly opposed\n",
      "\n",
      "SUMMARY : \n",
      "Manchester United's board has agreed to give US tycoon Malcolm Glazer access and its books...Earlier this month, Mrglazer presented the boards with detailed proposals on an offer for buyout of Manchester City. The fan-based group Shareholder’Sued is strongly opposed by any takeover by Mr Glazer.\" In a statement in January, the club said it would allow Mr Glazer \"limited due diligence\" so that he could put his proposal on hold before making another bid. But it also stressed how strongly opposing Mr Glazer' proposed takeover will be discussed at the board meeting next week. Mr Glazer' offers values both £800m ($1.5bn) while his\n"
     ]
    }
   ],
   "source": [
    "print(f\"ARTICLE : \\n{df['Actual Text'].iloc[53]}\\n\\nSUMMARY : \\n{df['Generated Text'].iloc[53]}\")"
   ]
  },
  {
   "cell_type": "code",
   "execution_count": 28,
   "metadata": {
    "execution": {
     "iopub.execute_input": "2024-04-06T06:52:09.344255Z",
     "iopub.status.busy": "2024-04-06T06:52:09.343922Z",
     "iopub.status.idle": "2024-04-06T06:52:09.353445Z",
     "shell.execute_reply": "2024-04-06T06:52:09.352291Z",
     "shell.execute_reply.started": "2024-04-06T06:52:09.344224Z"
    }
   },
   "outputs": [],
   "source": [
    "def generate_summary(input_text, tokenizer, model, device, max_length=150):\n",
    "    # Preprocess the input text using the tokenizer\n",
    "    input_text = 'summarize: ' + input_text\n",
    "    inputs = tokenizer.batch_encode_plus([input_text], max_length=max_length, pad_to_max_length=True, return_tensors='pt')\n",
    "\n",
    "    # Move input tensors to the appropriate device\n",
    "    input_ids = inputs['input_ids'].to(device)\n",
    "    attention_mask = inputs['attention_mask'].to(device)\n",
    "\n",
    "    # Generate summary\n",
    "    with torch.no_grad():\n",
    "        generated_ids = model.generate(\n",
    "            input_ids = input_ids,\n",
    "            attention_mask = attention_mask,\n",
    "            max_length = max_length,\n",
    "            num_beams = 2,\n",
    "            repetition_penalty = 2.5,\n",
    "            length_penalty = 1.0,\n",
    "            early_stopping = True\n",
    "        )\n",
    "\n",
    "    # Decode the generated summary\n",
    "    generated_summary = [tokenizer.decode(g, skip_special_tokens=True, clean_up_tokenization_spaces=True) for g in generated_ids]\n",
    "\n",
    "    return generated_summary[0]\n"
   ]
  },
  {
   "cell_type": "code",
   "execution_count": 36,
   "metadata": {
    "execution": {
     "iopub.execute_input": "2024-04-06T07:09:08.951982Z",
     "iopub.status.busy": "2024-04-06T07:09:08.951560Z",
     "iopub.status.idle": "2024-04-06T07:09:09.130975Z",
     "shell.execute_reply": "2024-04-06T07:09:09.130198Z",
     "shell.execute_reply.started": "2024-04-06T07:09:08.951944Z"
    }
   },
   "outputs": [],
   "source": [
    "tokenizer = T5Tokenizer.from_pretrained(\"t5-base\")"
   ]
  },
  {
   "cell_type": "markdown",
   "metadata": {},
   "source": [
    "### Generating Summaries"
   ]
  },
  {
   "cell_type": "code",
   "execution_count": 37,
   "metadata": {
    "execution": {
     "iopub.execute_input": "2024-04-06T07:09:36.689747Z",
     "iopub.status.busy": "2024-04-06T07:09:36.689362Z",
     "iopub.status.idle": "2024-04-06T07:09:41.118762Z",
     "shell.execute_reply": "2024-04-06T07:09:41.117725Z",
     "shell.execute_reply.started": "2024-04-06T07:09:36.689714Z"
    }
   },
   "outputs": [
    {
     "name": "stdout",
     "output_type": "stream",
     "text": [
      "Generated Summary: A recent episode of Shark Tank India saw a lucrative deal that involved all five sharks on the panel — Anupam Mittal, Aman Gupte and Azhar Iqubal. Radhiki Gap was one of the co-founder members of Canvaloop, which specialise in producing alternative fibre to reduce environmental pollution left by cotton synthetic...The two co-founded companies asked for Rs 1 crore in exchanged with 1.33% equity, valuing the company at Rs 75 lakh (£1bn). The founder said their alternative fiber is created from its ‘zero waste proprietary technology’; it consume 82% less energy, 81% more carbon dioxide than conventional fuel used as fuel or diesel fuel\n"
     ]
    }
   ],
   "source": [
    "text = \"A recent episode of Shark Tank India saw a lucrative deal that involved all five sharks on the panel — \\\n",
    "Anupam Mittal, Aman Gupta, Azhar Iqubal, Namita Thapar and Radhika Gupta. Two co-founders representing their biomaterial \\\n",
    "science company Canvaloop, which specialises in producing alternative fibres that can reduce the environmental toll left by \\\n",
    "cotton and synthetic, asked for Rs 1 crore in exchange of 1.33% equity, valuing the company at Rs 75 crore.The founders claimed \\\n",
    "that their alternative fibres, which are created from their ‘zero-waste proprietary technology’, consumes 82% less energy, 87% \\\n",
    "less carbon emissions, and 99% less water than synthetic and cotton manufacturing. They said that their claims have been independently \\\n",
    "verified by a third-party organisation, and it was only after this that they started getting business from global brands such as Levi’s.\"\n",
    "\n",
    "summary = generate_summary(text, tokenizer, model, device)\n",
    "print(\"Generated Summary:\", summary)"
   ]
  },
  {
   "cell_type": "code",
   "execution_count": 38,
   "metadata": {
    "execution": {
     "iopub.execute_input": "2024-04-06T07:09:46.062578Z",
     "iopub.status.busy": "2024-04-06T07:09:46.062227Z",
     "iopub.status.idle": "2024-04-06T07:09:50.397896Z",
     "shell.execute_reply": "2024-04-06T07:09:50.396949Z",
     "shell.execute_reply.started": "2024-04-06T07:09:46.062548Z"
    }
   },
   "outputs": [
    {
     "name": "stdout",
     "output_type": "stream",
     "text": [
      "Generated Summary: India has cleared the supply of several essential commodities in The Maldives, including items such as rice and wheat onions whose exports are currently banned. The clearance comes at an age when relations between India'State Department and the Maldivian government are at a low, especially after last year’ election by President Mohamed Muiszu, who is now in power to replace Mujizawa. The approved quantities were also highest since it was put into place back then...The clearance comes amid ties among India and Pakistan which have been hit hard during the past year with the release of a series denial letter from Prime Minister Narendra Modal on Monday. The government allowed for the Exports 2024-\n"
     ]
    }
   ],
   "source": [
    "text = \" The Indian government has cleared the supply of several essential commodities to the Maldives, including items such as rice, wheat and onions whose exports are currently banned, amid a downturn in relations between the two sides.\\\n",
    "The government allowed the export of these commodities for 2024-25 under a bilateral mechanism at the request of the Maldivian government, the Indian high commission in Male said in a statement on Friday. The approved quantities are also the highest since the mechanism was put in place in 1981.\\\n",
    "The clearance for the exports comes at a time when ties between India and the Maldives are at a low, especially after the election last year of President Mohamed Muizzu, who has sought to end the Indian archipelago’s dependence on India in strategic sectors. Muizzu has also moved the Maldives closer to China.\"\n",
    "\n",
    "summary = generate_summary(text, tokenizer, model, device)\n",
    "print(\"Generated Summary:\", summary)"
   ]
  },
  {
   "cell_type": "code",
   "execution_count": 39,
   "metadata": {
    "execution": {
     "iopub.execute_input": "2024-04-06T07:09:50.400275Z",
     "iopub.status.busy": "2024-04-06T07:09:50.399963Z",
     "iopub.status.idle": "2024-04-06T07:09:54.720924Z",
     "shell.execute_reply": "2024-04-06T07:09:54.720036Z",
     "shell.execute_reply.started": "2024-04-06T07:09:50.400244Z"
    }
   },
   "outputs": [
    {
     "name": "stdout",
     "output_type": "stream",
     "text": [
      "Generated Summary: In response to reports showing that 36% of graduates at IIT Bombay are yet able secure jobs this placement season, the institute has released data from an exit survey conducted among graduating students in academic year 2022-23. Accordingly, only 6.1% and majority were looking for work, while the majority (57%) secured employment through my university's placement process...The institute also released data on how many students left school after graduation, with one in five opting out of IIM Bombeghta University. In response there is no mention of public service careers as well as higher education. Additionally, 12.2% have chosen to pursue higher degrees, whil 8.3% chose careers within private sector or government. The\n"
     ]
    }
   ],
   "source": [
    "text = \"In response to reports showing that 36% of graduates at IIT Bombay are yet to secure jobs this placement season, the institute has released data from an exit survey conducted among graduating students in the academic year 2022-23.\\\n",
    "According to the survey result shared by the institute, only 6.1% of graduates are looking for jobs, while the majority of students, accounting for 57.1%, secured jobs through IIT Bombay's placement process. Additionally, 12.2% of students opted to pursue higher degrees, while 8.3% chose careers in public service.\\\n",
    "Furthermore, a breakdown of employment preferences among students reveals that 10.9% secured jobs outside of IIT Bombay, with 1.6% venturing into startup ventures. A small percentage, 4.3%, remain undecided about their career paths.\"\n",
    "\n",
    "summary = generate_summary(text, tokenizer, model, device)\n",
    "print(\"Generated Summary:\", summary)"
   ]
  },
  {
   "cell_type": "code",
   "execution_count": 33,
   "metadata": {
    "execution": {
     "iopub.execute_input": "2024-04-06T06:52:25.859220Z",
     "iopub.status.busy": "2024-04-06T06:52:25.858789Z",
     "iopub.status.idle": "2024-04-06T06:52:26.881282Z",
     "shell.execute_reply": "2024-04-06T06:52:26.880295Z",
     "shell.execute_reply.started": "2024-04-06T06:52:25.859174Z"
    }
   },
   "outputs": [
    {
     "name": "stdout",
     "output_type": "stream",
     "text": [
      "Fine-tuned model and tokenizer saved successfully to: ./fine_tuned_model\n"
     ]
    }
   ],
   "source": [
    "save_directory = \"./fine_tuned_model\"\n",
    "\n",
    "\n",
    "if not os.path.exists(save_directory):\n",
    "    os.makedirs(save_directory)\n",
    "\n",
    "# Saving the fine-tuned model to the specified directory\n",
    "model.save_pretrained(save_directory)\n",
    "\n",
    "# Saving the tokenizer as well, if needed\n",
    "tokenizer.save_pretrained(save_directory)\n",
    "\n",
    "print(\"Fine-tuned model and tokenizer saved successfully to:\", save_directory)"
   ]
  }
 ],
 "metadata": {
  "kaggle": {
   "accelerator": "gpu",
   "dataSources": [
    {
     "datasetId": 24984,
     "sourceId": 32267,
     "sourceType": "datasetVersion"
    },
    {
     "datasetId": 1895,
     "sourceId": 791838,
     "sourceType": "datasetVersion"
    },
    {
     "datasetId": 1977878,
     "sourceId": 8041011,
     "sourceType": "datasetVersion"
    }
   ],
   "dockerImageVersionId": 29928,
   "isGpuEnabled": true,
   "isInternetEnabled": true,
   "language": "python",
   "sourceType": "notebook"
  },
  "kernelspec": {
   "display_name": "Python 3 (ipykernel)",
   "language": "python",
   "name": "python3"
  },
  "language_info": {
   "codemirror_mode": {
    "name": "ipython",
    "version": 3
   },
   "file_extension": ".py",
   "mimetype": "text/x-python",
   "name": "python",
   "nbconvert_exporter": "python",
   "pygments_lexer": "ipython3",
   "version": "3.11.5"
  }
 },
 "nbformat": 4,
 "nbformat_minor": 4
}
