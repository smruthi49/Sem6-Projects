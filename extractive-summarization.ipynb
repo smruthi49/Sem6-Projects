{
 "cells": [
  {
   "cell_type": "markdown",
   "metadata": {},
   "source": [
    "**Extractive** Extractive summarization involves identifying and extracting the most important sentences from the original text. \n",
    "Extractive summarization is easier to implement and can be done quickly using an unsupervised approach that does not require prior training. "
   ]
  },
  {
   "cell_type": "markdown",
   "metadata": {},
   "source": [
    "## Install Libraries"
   ]
  },
  {
   "cell_type": "code",
   "execution_count": 39,
   "metadata": {
    "execution": {
     "iopub.execute_input": "2024-04-06T05:51:06.600011Z",
     "iopub.status.busy": "2024-04-06T05:51:06.599593Z",
     "iopub.status.idle": "2024-04-06T05:51:06.605297Z",
     "shell.execute_reply": "2024-04-06T05:51:06.604260Z",
     "shell.execute_reply.started": "2024-04-06T05:51:06.599980Z"
    }
   },
   "outputs": [],
   "source": [
    "#!pip install  sumy"
   ]
  },
  {
   "cell_type": "markdown",
   "metadata": {},
   "source": [
    "## Importing Libraries"
   ]
  },
  {
   "cell_type": "code",
   "execution_count": 10,
   "metadata": {
    "execution": {
     "iopub.execute_input": "2024-04-06T05:34:42.904742Z",
     "iopub.status.busy": "2024-04-06T05:34:42.904122Z",
     "iopub.status.idle": "2024-04-06T05:34:43.811193Z",
     "shell.execute_reply": "2024-04-06T05:34:43.810267Z",
     "shell.execute_reply.started": "2024-04-06T05:34:42.904710Z"
    }
   },
   "outputs": [],
   "source": [
    "import nltk\n",
    "import seaborn as sns \n",
    "import matplotlib.pyplot as plt\n",
    "import numpy as np\n",
    "import pandas as pd\n",
    "import warnings\n",
    "import os\n",
    "\n",
    "import nltk\n",
    "from nltk.corpus import stopwords\n",
    "from nltk.tokenize import sent_tokenize\n",
    "import numpy as np\n",
    "import networkx as nx\n",
    "import re\n"
   ]
  },
  {
   "cell_type": "markdown",
   "metadata": {},
   "source": [
    "## Loading data into DataFrame"
   ]
  },
  {
   "cell_type": "code",
   "execution_count": 2,
   "metadata": {
    "execution": {
     "iopub.execute_input": "2024-04-06T05:33:09.577616Z",
     "iopub.status.busy": "2024-04-06T05:33:09.577041Z",
     "iopub.status.idle": "2024-04-06T05:33:13.054675Z",
     "shell.execute_reply": "2024-04-06T05:33:13.053515Z",
     "shell.execute_reply.started": "2024-04-06T05:33:09.577582Z"
    }
   },
   "outputs": [],
   "source": [
    "path_, filename_, category_, article_or_summary_ = [],[],[],[]\n",
    "for dirname, _, filenames in os.walk('/kaggle/input'):\n",
    "    for filename in filenames:\n",
    "        path_.append(os.path.join(dirname, filename))\n",
    "        filename_.append(filename)\n",
    "        category_.append(dirname.split(\"/\")[-1])\n",
    "        article_or_summary_.append(dirname.split(\"/\")[-2])"
   ]
  },
  {
   "cell_type": "code",
   "execution_count": 3,
   "metadata": {
    "execution": {
     "iopub.execute_input": "2024-04-06T05:33:20.414552Z",
     "iopub.status.busy": "2024-04-06T05:33:20.414196Z",
     "iopub.status.idle": "2024-04-06T05:33:20.438264Z",
     "shell.execute_reply": "2024-04-06T05:33:20.437450Z",
     "shell.execute_reply.started": "2024-04-06T05:33:20.414527Z"
    }
   },
   "outputs": [
    {
     "data": {
      "text/html": [
       "<div>\n",
       "<style scoped>\n",
       "    .dataframe tbody tr th:only-of-type {\n",
       "        vertical-align: middle;\n",
       "    }\n",
       "\n",
       "    .dataframe tbody tr th {\n",
       "        vertical-align: top;\n",
       "    }\n",
       "\n",
       "    .dataframe thead th {\n",
       "        text-align: right;\n",
       "    }\n",
       "</style>\n",
       "<table border=\"1\" class=\"dataframe\">\n",
       "  <thead>\n",
       "    <tr style=\"text-align: right;\">\n",
       "      <th></th>\n",
       "      <th>path</th>\n",
       "      <th>filename</th>\n",
       "      <th>category</th>\n",
       "      <th>article_or_summary</th>\n",
       "    </tr>\n",
       "  </thead>\n",
       "  <tbody>\n",
       "    <tr>\n",
       "      <th>0</th>\n",
       "      <td>/kaggle/input/bbc-news-summary/BBC News Summar...</td>\n",
       "      <td>361.txt</td>\n",
       "      <td>politics</td>\n",
       "      <td>Summaries</td>\n",
       "    </tr>\n",
       "    <tr>\n",
       "      <th>1</th>\n",
       "      <td>/kaggle/input/bbc-news-summary/BBC News Summar...</td>\n",
       "      <td>245.txt</td>\n",
       "      <td>politics</td>\n",
       "      <td>Summaries</td>\n",
       "    </tr>\n",
       "    <tr>\n",
       "      <th>2</th>\n",
       "      <td>/kaggle/input/bbc-news-summary/BBC News Summar...</td>\n",
       "      <td>141.txt</td>\n",
       "      <td>politics</td>\n",
       "      <td>Summaries</td>\n",
       "    </tr>\n",
       "    <tr>\n",
       "      <th>3</th>\n",
       "      <td>/kaggle/input/bbc-news-summary/BBC News Summar...</td>\n",
       "      <td>372.txt</td>\n",
       "      <td>politics</td>\n",
       "      <td>Summaries</td>\n",
       "    </tr>\n",
       "    <tr>\n",
       "      <th>4</th>\n",
       "      <td>/kaggle/input/bbc-news-summary/BBC News Summar...</td>\n",
       "      <td>333.txt</td>\n",
       "      <td>politics</td>\n",
       "      <td>Summaries</td>\n",
       "    </tr>\n",
       "  </tbody>\n",
       "</table>\n",
       "</div>"
      ],
      "text/plain": [
       "                                                path filename  category  \\\n",
       "0  /kaggle/input/bbc-news-summary/BBC News Summar...  361.txt  politics   \n",
       "1  /kaggle/input/bbc-news-summary/BBC News Summar...  245.txt  politics   \n",
       "2  /kaggle/input/bbc-news-summary/BBC News Summar...  141.txt  politics   \n",
       "3  /kaggle/input/bbc-news-summary/BBC News Summar...  372.txt  politics   \n",
       "4  /kaggle/input/bbc-news-summary/BBC News Summar...  333.txt  politics   \n",
       "\n",
       "  article_or_summary  \n",
       "0          Summaries  \n",
       "1          Summaries  \n",
       "2          Summaries  \n",
       "3          Summaries  \n",
       "4          Summaries  "
      ]
     },
     "execution_count": 3,
     "metadata": {},
     "output_type": "execute_result"
    }
   ],
   "source": [
    "bbc = pd.DataFrame({\"path\":path_, \"filename\":filename_, \"category\":category_, \"article_or_summary\":article_or_summary_}, columns=[\"path\", \"filename\", \"category\", \"article_or_summary\"])\n",
    "bbc.head()"
   ]
  },
  {
   "cell_type": "markdown",
   "metadata": {
    "execution": {
     "iopub.execute_input": "2024-04-06T05:34:00.173115Z",
     "iopub.status.busy": "2024-04-06T05:34:00.172757Z",
     "iopub.status.idle": "2024-04-06T05:34:00.177349Z",
     "shell.execute_reply": "2024-04-06T05:34:00.176175Z",
     "shell.execute_reply.started": "2024-04-06T05:34:00.173089Z"
    }
   },
   "source": [
    "## Preprocessing\n",
    "### Sentence Tokenization"
   ]
  },
  {
   "cell_type": "code",
   "execution_count": 7,
   "metadata": {
    "execution": {
     "iopub.execute_input": "2024-04-06T05:34:15.785093Z",
     "iopub.status.busy": "2024-04-06T05:34:15.784138Z",
     "iopub.status.idle": "2024-04-06T05:34:15.790315Z",
     "shell.execute_reply": "2024-04-06T05:34:15.789298Z",
     "shell.execute_reply.started": "2024-04-06T05:34:15.785060Z"
    }
   },
   "outputs": [],
   "source": [
    "def read_article(text):        \n",
    "    sentences =[]        \n",
    "    sentences = sent_tokenize(text)    \n",
    "    for sentence in sentences:        \n",
    "        sentence.replace(\"[^a-zA-Z0-9]\",\" \")     \n",
    "    return sentences"
   ]
  },
  {
   "cell_type": "code",
   "execution_count": 8,
   "metadata": {
    "execution": {
     "iopub.execute_input": "2024-04-06T05:34:20.949985Z",
     "iopub.status.busy": "2024-04-06T05:34:20.949601Z",
     "iopub.status.idle": "2024-04-06T05:34:20.970383Z",
     "shell.execute_reply": "2024-04-06T05:34:20.969573Z",
     "shell.execute_reply.started": "2024-04-06T05:34:20.949957Z"
    }
   },
   "outputs": [],
   "source": [
    "file_path = bbc[bbc['article_or_summary']=='News Articles'].iloc[0]['path']\n",
    "with open(file_path, \"r\") as f:\n",
    "    article = f.read()"
   ]
  },
  {
   "cell_type": "code",
   "execution_count": 11,
   "metadata": {
    "execution": {
     "iopub.execute_input": "2024-04-06T05:34:50.514686Z",
     "iopub.status.busy": "2024-04-06T05:34:50.513661Z",
     "iopub.status.idle": "2024-04-06T05:34:50.539528Z",
     "shell.execute_reply": "2024-04-06T05:34:50.538504Z",
     "shell.execute_reply.started": "2024-04-06T05:34:50.514651Z"
    }
   },
   "outputs": [
    {
     "data": {
      "text/plain": [
       "[\"Budget to set scene for election\\n\\nGordon Brown will seek to put the economy at the centre of Labour's bid for a third term in power when he delivers his ninth Budget at 1230 GMT.\",\n",
       " 'He is expected to stress the importance of continued economic stability, with low unemployment and interest rates.',\n",
       " 'The chancellor is expected to freeze petrol duty and raise the stamp duty threshold from £60,000.',\n",
       " 'But the Conservatives and Lib Dems insist voters face higher taxes and more means-testing under Labour.',\n",
       " 'Treasury officials have said there will not be a pre-election giveaway, but Mr Brown is thought to have about £2bn to spare.',\n",
       " \"- Increase in the stamp duty threshold from £60,000 \\n - A freeze on petrol duty \\n - An extension of tax credit scheme for poorer families \\n - Possible help for pensioners The stamp duty threshold rise is intended to help first time buyers - a likely theme of all three of the main parties' general election manifestos.\",\n",
       " 'Ten years ago, buyers had a much greater chance of avoiding stamp duty, with close to half a million properties, in England and Wales alone, selling for less than £60,000.',\n",
       " 'Since then, average UK property prices have more than doubled while the starting threshold for stamp duty has not increased.',\n",
       " \"Tax credits As a result, the number of properties incurring stamp duty has rocketed as has the government's tax take.\",\n",
       " 'The Liberal Democrats unveiled their own proposals to raise the stamp duty threshold to £150,000 in February.',\n",
       " 'The Tories are also thought likely to propose increased thresholds, with shadow chancellor Oliver Letwin branding stamp duty a \"classic Labour stealth tax\".',\n",
       " 'The Tories say whatever the chancellor gives away will be clawed back in higher taxes if Labour is returned to power.',\n",
       " 'Shadow Treasury chief secretary George Osborne said: \"Everyone who looks at the British economy at the moment says there has been a sharp deterioration in the public finances, that there is a black hole,\" he said.',\n",
       " '\"If Labour is elected there will be a very substantial tax increase in the Budget after the election, of the order of around £10bn.\"',\n",
       " \"But Mr Brown's former advisor Ed Balls, now a parliamentary hopeful, said an examination of Tory plans for the economy showed there would be a £35bn difference in investment by the end of the next parliament between the two main parties.\",\n",
       " 'He added: \"I don\\'t accept there is any need for any changes to the plans we have set out to meet our spending commitments.\"',\n",
       " 'For the Lib Dems David Laws said: \"The chancellor will no doubt tell us today how wonderfully the economy is doing,\" he said.',\n",
       " '\"But a lot of that is built on an increase in personal and consumer debt over the last few years - that makes the economy quite vulnerable potentially if interest rates ever do have to go up in a significant way.\"',\n",
       " 'SNP leader Alex Salmond said his party would introduce a £2,000 grant for first time buyers, reduce corporation tax and introduce a citizens pension free from means testing.',\n",
       " \"Plaid Cymru's economics spokesman Adam Price said he wanted help to get people on the housing ladder and an increase in the minimum wage to £5.60 an hour.\"]"
      ]
     },
     "execution_count": 11,
     "metadata": {},
     "output_type": "execute_result"
    }
   ],
   "source": [
    "sent_tok = read_article(article)\n",
    "sent_tok"
   ]
  },
  {
   "cell_type": "markdown",
   "metadata": {},
   "source": [
    "### Sentence Similarity"
   ]
  },
  {
   "cell_type": "code",
   "execution_count": 12,
   "metadata": {
    "execution": {
     "iopub.execute_input": "2024-04-06T05:35:15.717118Z",
     "iopub.status.busy": "2024-04-06T05:35:15.716434Z",
     "iopub.status.idle": "2024-04-06T05:36:07.172683Z",
     "shell.execute_reply": "2024-04-06T05:36:07.171843Z",
     "shell.execute_reply.started": "2024-04-06T05:35:15.717084Z"
    }
   },
   "outputs": [
    {
     "name": "stderr",
     "output_type": "stream",
     "text": [
      "2024-04-06 05:35:17.627446: E external/local_xla/xla/stream_executor/cuda/cuda_dnn.cc:9261] Unable to register cuDNN factory: Attempting to register factory for plugin cuDNN when one has already been registered\n",
      "2024-04-06 05:35:17.627569: E external/local_xla/xla/stream_executor/cuda/cuda_fft.cc:607] Unable to register cuFFT factory: Attempting to register factory for plugin cuFFT when one has already been registered\n",
      "2024-04-06 05:35:17.776808: E external/local_xla/xla/stream_executor/cuda/cuda_blas.cc:1515] Unable to register cuBLAS factory: Attempting to register factory for plugin cuBLAS when one has already been registered\n"
     ]
    }
   ],
   "source": [
    "import tensorflow_hub as hub\n",
    "\n",
    "embed = hub.load(\"https://tfhub.dev/google/universal-sentence-encoder/4\")\n",
    "\n",
    "def sentence_similarity(sent1,sent2,embed):  \n",
    "    A = embed([sent1])[0]\n",
    "    B = embed([sent2])[0]\n",
    "    return 1 - (np.dot(A,B)/(np.linalg.norm(A)*np.linalg.norm(B)))"
   ]
  },
  {
   "cell_type": "code",
   "execution_count": 14,
   "metadata": {
    "execution": {
     "iopub.execute_input": "2024-04-06T05:36:07.182262Z",
     "iopub.status.busy": "2024-04-06T05:36:07.181704Z",
     "iopub.status.idle": "2024-04-06T05:36:07.603924Z",
     "shell.execute_reply": "2024-04-06T05:36:07.602621Z",
     "shell.execute_reply.started": "2024-04-06T05:36:07.182233Z"
    }
   },
   "outputs": [
    {
     "name": "stdout",
     "output_type": "stream",
     "text": [
      "\u001b[92m Sentence 1 : Budget to set scene for election\n",
      "\n",
      "Gordon Brown will seek to put the economy at the centre of Labour's bid for a third term in power when he delivers his ninth Budget at 1230 GMT.\n",
      "\u001b[92m Sentence 2 : He is expected to stress the importance of continued economic stability, with low unemployment and interest rates.\n",
      "\u001b[92m Similarity Score : 0.7918333411216736\n"
     ]
    }
   ],
   "source": [
    "print(f\"\\033[92m Sentence 1 : {sent_tok[0]}\")\n",
    "print(f\"\\033[92m Sentence 2 : {sent_tok[1]}\")\n",
    "print(f\"\\033[92m Similarity Score : {sentence_similarity(sent_tok[0], sent_tok[1], embed)}\")"
   ]
  },
  {
   "cell_type": "code",
   "execution_count": 13,
   "metadata": {
    "execution": {
     "iopub.execute_input": "2024-04-06T05:36:07.175068Z",
     "iopub.status.busy": "2024-04-06T05:36:07.174498Z",
     "iopub.status.idle": "2024-04-06T05:36:07.180043Z",
     "shell.execute_reply": "2024-04-06T05:36:07.179256Z",
     "shell.execute_reply.started": "2024-04-06T05:36:07.175037Z"
    }
   },
   "outputs": [],
   "source": [
    "def build_similarity_matrix(sentences,embeds):\n",
    "    similarity_matrix = np.zeros((len(sentences),len(sentences)))\n",
    "    for idx1 in range(len(sentences)):\n",
    "        for idx2 in range(len(sentences)):\n",
    "            if idx1!=idx2:\n",
    "                similarity_matrix[idx1][idx2] = sentence_similarity(sentences[idx1],sentences[idx2],embeds)\n",
    "    return similarity_matrix"
   ]
  },
  {
   "cell_type": "code",
   "execution_count": 15,
   "metadata": {
    "execution": {
     "iopub.execute_input": "2024-04-06T05:36:22.565754Z",
     "iopub.status.busy": "2024-04-06T05:36:22.565338Z",
     "iopub.status.idle": "2024-04-06T05:36:25.051344Z",
     "shell.execute_reply": "2024-04-06T05:36:25.050540Z",
     "shell.execute_reply.started": "2024-04-06T05:36:22.565723Z"
    }
   },
   "outputs": [],
   "source": [
    "sim_mat = build_similarity_matrix(sent_tok, embed)"
   ]
  },
  {
   "cell_type": "markdown",
   "metadata": {},
   "source": [
    "## Summarization"
   ]
  },
  {
   "cell_type": "code",
   "execution_count": 16,
   "metadata": {
    "execution": {
     "iopub.execute_input": "2024-04-06T05:37:23.497194Z",
     "iopub.status.busy": "2024-04-06T05:37:23.496769Z",
     "iopub.status.idle": "2024-04-06T05:37:23.510577Z",
     "shell.execute_reply": "2024-04-06T05:37:23.509430Z",
     "shell.execute_reply.started": "2024-04-06T05:37:23.497140Z"
    }
   },
   "outputs": [],
   "source": [
    "file_path_summary = bbc[bbc['article_or_summary']=='Summaries'].iloc[0]['path']\n",
    "with open(file_path_summary, \"r\") as f:\n",
    "    actual_summary = f.read()"
   ]
  },
  {
   "cell_type": "code",
   "execution_count": 17,
   "metadata": {
    "execution": {
     "iopub.execute_input": "2024-04-06T05:37:23.738750Z",
     "iopub.status.busy": "2024-04-06T05:37:23.738350Z",
     "iopub.status.idle": "2024-04-06T05:37:23.745904Z",
     "shell.execute_reply": "2024-04-06T05:37:23.744646Z",
     "shell.execute_reply.started": "2024-04-06T05:37:23.738718Z"
    }
   },
   "outputs": [],
   "source": [
    "def generate_extractive_summary(text,top_n,embeds):\n",
    "    \n",
    "    summarize_text = []  \n",
    "    sentences = read_article(text)           \n",
    "    sentence_similarity_matrix = build_similarity_matrix(sentences,embeds)  \n",
    "    sentence_similarity_graph = nx.from_numpy_array(sentence_similarity_matrix)\n",
    "    scores = nx.pagerank(sentence_similarity_graph) \n",
    "    ranked_sentences = sorted(((scores[i],s) for i,s in enumerate(sentences)),reverse=True)\n",
    "    \n",
    "    for i in range(top_n):\n",
    "        summarize_text.append(ranked_sentences[i][1]) \n",
    "    \n",
    "    return \" \".join(summarize_text)"
   ]
  },
  {
   "cell_type": "code",
   "execution_count": 27,
   "metadata": {
    "execution": {
     "iopub.execute_input": "2024-04-06T05:45:13.103249Z",
     "iopub.status.busy": "2024-04-06T05:45:13.102551Z",
     "iopub.status.idle": "2024-04-06T05:45:13.110551Z",
     "shell.execute_reply": "2024-04-06T05:45:13.109375Z",
     "shell.execute_reply.started": "2024-04-06T05:45:13.103208Z"
    }
   },
   "outputs": [
    {
     "data": {
      "text/plain": [
       "'Budget to set scene for election\\n\\nGordon Brown will seek to put the economy at the centre of Labour\\'s bid for a third term in power when he delivers his ninth Budget at 1230 GMT. He is expected to stress the importance of continued economic stability, with low unemployment and interest rates. The chancellor is expected to freeze petrol duty and raise the stamp duty threshold from £60,000. But the Conservatives and Lib Dems insist voters face higher taxes and more means-testing under Labour. Treasury officials have said there will not be a pre-election giveaway, but Mr Brown is thought to have about £2bn to spare. - Increase in the stamp duty threshold from £60,000 \\n - A freeze on petrol duty \\n - An extension of tax credit scheme for poorer families \\n - Possible help for pensioners The stamp duty threshold rise is intended to help first time buyers - a likely theme of all three of the main parties\\' general election manifestos. Ten years ago, buyers had a much greater chance of avoiding stamp duty, with close to half a million properties, in England and Wales alone, selling for less than £60,000. Since then, average UK property prices have more than doubled while the starting threshold for stamp duty has not increased. Tax credits As a result, the number of properties incurring stamp duty has rocketed as has the government\\'s tax take. The Liberal Democrats unveiled their own proposals to raise the stamp duty threshold to £150,000 in February. The Tories are also thought likely to propose increased thresholds, with shadow chancellor Oliver Letwin branding stamp duty a \"classic Labour stealth tax\". The Tories say whatever the chancellor gives away will be clawed back in higher taxes if Labour is returned to power. Shadow Treasury chief secretary George Osborne said: \"Everyone who looks at the British economy at the moment says there has been a sharp deterioration in the public finances, that there is a black hole,\" he said. \"If Labour is elected there will be a very substantial tax increase in the Budget after the election, of the order of around £10bn.\" But Mr Brown\\'s former advisor Ed Balls, now a parliamentary hopeful, said an examination of Tory plans for the economy showed there would be a £35bn difference in investment by the end of the next parliament between the two main parties. He added: \"I don\\'t accept there is any need for any changes to the plans we have set out to meet our spending commitments.\" For the Lib Dems David Laws said: \"The chancellor will no doubt tell us today how wonderfully the economy is doing,\" he said. \"But a lot of that is built on an increase in personal and consumer debt over the last few years - that makes the economy quite vulnerable potentially if interest rates ever do have to go up in a significant way.\" SNP leader Alex Salmond said his party would introduce a £2,000 grant for first time buyers, reduce corporation tax and introduce a citizens pension free from means testing. Plaid Cymru\\'s economics spokesman Adam Price said he wanted help to get people on the housing ladder and an increase in the minimum wage to £5.60 an hour.'"
      ]
     },
     "execution_count": 27,
     "metadata": {},
     "output_type": "execute_result"
    }
   ],
   "source": [
    "\" \".join(sent_tok)"
   ]
  },
  {
   "cell_type": "code",
   "execution_count": 18,
   "metadata": {
    "execution": {
     "iopub.execute_input": "2024-04-06T05:37:25.631963Z",
     "iopub.status.busy": "2024-04-06T05:37:25.630754Z",
     "iopub.status.idle": "2024-04-06T05:37:28.013427Z",
     "shell.execute_reply": "2024-04-06T05:37:28.012559Z",
     "shell.execute_reply.started": "2024-04-06T05:37:25.631917Z"
    }
   },
   "outputs": [],
   "source": [
    "Original_Text = \" \".join(sent_tok)\n",
    "Summarized_Text = generate_extractive_summary(Original_Text, top_n=5, embeds = embed)"
   ]
  },
  {
   "cell_type": "code",
   "execution_count": 19,
   "metadata": {
    "execution": {
     "iopub.execute_input": "2024-04-06T05:37:40.385939Z",
     "iopub.status.busy": "2024-04-06T05:37:40.384835Z",
     "iopub.status.idle": "2024-04-06T05:37:40.392063Z",
     "shell.execute_reply": "2024-04-06T05:37:40.390834Z",
     "shell.execute_reply.started": "2024-04-06T05:37:40.385904Z"
    }
   },
   "outputs": [
    {
     "data": {
      "text/plain": [
       "'Budget to set scene for election\\n\\nGordon Brown will seek to put the economy at the centre of Labour\\'s bid for a third term in power when he delivers his ninth Budget at 1230 GMT. He is expected to stress the importance of continued economic stability, with low unemployment and interest rates. The chancellor is expected to freeze petrol duty and raise the stamp duty threshold from £60,000. But the Conservatives and Lib Dems insist voters face higher taxes and more means-testing under Labour. Treasury officials have said there will not be a pre-election giveaway, but Mr Brown is thought to have about £2bn to spare. - Increase in the stamp duty threshold from £60,000 \\n - A freeze on petrol duty \\n - An extension of tax credit scheme for poorer families \\n - Possible help for pensioners The stamp duty threshold rise is intended to help first time buyers - a likely theme of all three of the main parties\\' general election manifestos. Ten years ago, buyers had a much greater chance of avoiding stamp duty, with close to half a million properties, in England and Wales alone, selling for less than £60,000. Since then, average UK property prices have more than doubled while the starting threshold for stamp duty has not increased. Tax credits As a result, the number of properties incurring stamp duty has rocketed as has the government\\'s tax take. The Liberal Democrats unveiled their own proposals to raise the stamp duty threshold to £150,000 in February. The Tories are also thought likely to propose increased thresholds, with shadow chancellor Oliver Letwin branding stamp duty a \"classic Labour stealth tax\". The Tories say whatever the chancellor gives away will be clawed back in higher taxes if Labour is returned to power. Shadow Treasury chief secretary George Osborne said: \"Everyone who looks at the British economy at the moment says there has been a sharp deterioration in the public finances, that there is a black hole,\" he said. \"If Labour is elected there will be a very substantial tax increase in the Budget after the election, of the order of around £10bn.\" But Mr Brown\\'s former advisor Ed Balls, now a parliamentary hopeful, said an examination of Tory plans for the economy showed there would be a £35bn difference in investment by the end of the next parliament between the two main parties. He added: \"I don\\'t accept there is any need for any changes to the plans we have set out to meet our spending commitments.\" For the Lib Dems David Laws said: \"The chancellor will no doubt tell us today how wonderfully the economy is doing,\" he said. \"But a lot of that is built on an increase in personal and consumer debt over the last few years - that makes the economy quite vulnerable potentially if interest rates ever do have to go up in a significant way.\" SNP leader Alex Salmond said his party would introduce a £2,000 grant for first time buyers, reduce corporation tax and introduce a citizens pension free from means testing. Plaid Cymru\\'s economics spokesman Adam Price said he wanted help to get people on the housing ladder and an increase in the minimum wage to £5.60 an hour.'"
      ]
     },
     "execution_count": 19,
     "metadata": {},
     "output_type": "execute_result"
    }
   ],
   "source": [
    "Original_Text"
   ]
  },
  {
   "cell_type": "code",
   "execution_count": 20,
   "metadata": {
    "execution": {
     "iopub.execute_input": "2024-04-06T05:37:40.686610Z",
     "iopub.status.busy": "2024-04-06T05:37:40.686235Z",
     "iopub.status.idle": "2024-04-06T05:37:40.692585Z",
     "shell.execute_reply": "2024-04-06T05:37:40.691527Z",
     "shell.execute_reply.started": "2024-04-06T05:37:40.686586Z"
    }
   },
   "outputs": [
    {
     "data": {
      "text/plain": [
       "'He added: \"I don\\'t accept there is any need for any changes to the plans we have set out to meet our spending commitments.\" He is expected to stress the importance of continued economic stability, with low unemployment and interest rates. \"But a lot of that is built on an increase in personal and consumer debt over the last few years - that makes the economy quite vulnerable potentially if interest rates ever do have to go up in a significant way.\" Plaid Cymru\\'s economics spokesman Adam Price said he wanted help to get people on the housing ladder and an increase in the minimum wage to £5.60 an hour. Treasury officials have said there will not be a pre-election giveaway, but Mr Brown is thought to have about £2bn to spare.'"
      ]
     },
     "execution_count": 20,
     "metadata": {},
     "output_type": "execute_result"
    }
   ],
   "source": [
    "Summarized_Text"
   ]
  },
  {
   "cell_type": "code",
   "execution_count": 21,
   "metadata": {
    "execution": {
     "iopub.execute_input": "2024-04-06T05:37:41.331286Z",
     "iopub.status.busy": "2024-04-06T05:37:41.330917Z",
     "iopub.status.idle": "2024-04-06T05:37:41.337462Z",
     "shell.execute_reply": "2024-04-06T05:37:41.336348Z",
     "shell.execute_reply.started": "2024-04-06T05:37:41.331259Z"
    }
   },
   "outputs": [
    {
     "data": {
      "text/plain": [
       "'- Increase in the stamp duty threshold from £60,000 - A freeze on petrol duty - An extension of tax credit scheme for poorer families - Possible help for pensioners The stamp duty threshold rise is intended to help first time buyers - a likely theme of all three of the main parties\\' general election manifestos.The chancellor is expected to freeze petrol duty and raise the stamp duty threshold from £60,000.The Tories are also thought likely to propose increased thresholds, with shadow chancellor Oliver Letwin branding stamp duty a \"classic Labour stealth tax\".Tax credits As a result, the number of properties incurring stamp duty has rocketed as has the government\\'s tax take.Since then, average UK property prices have more than doubled while the starting threshold for stamp duty has not increased.For the Lib Dems David Laws said: \"The chancellor will no doubt tell us today how wonderfully the economy is doing,\" he said.The Liberal Democrats unveiled their own proposals to raise the stamp duty threshold to £150,000 in February.\"If Labour is elected there will be a very substantial tax increase in the Budget after the election, of the order of around £10bn.\"'"
      ]
     },
     "execution_count": 21,
     "metadata": {},
     "output_type": "execute_result"
    }
   ],
   "source": [
    "actual_summary"
   ]
  },
  {
   "cell_type": "code",
   "execution_count": 22,
   "metadata": {
    "execution": {
     "iopub.execute_input": "2024-04-06T05:37:42.480937Z",
     "iopub.status.busy": "2024-04-06T05:37:42.480544Z",
     "iopub.status.idle": "2024-04-06T05:37:42.491547Z",
     "shell.execute_reply": "2024-04-06T05:37:42.490396Z",
     "shell.execute_reply.started": "2024-04-06T05:37:42.480909Z"
    }
   },
   "outputs": [
    {
     "name": "stdout",
     "output_type": "stream",
     "text": [
      "BLEUscore : 0.28932823819107034\n"
     ]
    }
   ],
   "source": [
    "hypothesis = Summarized_Text\n",
    "reference = actual_summary\n",
    "BLEUscore = nltk.translate.bleu_score.sentence_bleu([reference], hypothesis)\n",
    "print(f\"BLEUscore : {BLEUscore}\")"
   ]
  },
  {
   "cell_type": "code",
   "execution_count": 23,
   "metadata": {
    "execution": {
     "iopub.execute_input": "2024-04-06T05:42:27.452773Z",
     "iopub.status.busy": "2024-04-06T05:42:27.452314Z",
     "iopub.status.idle": "2024-04-06T05:42:27.468933Z",
     "shell.execute_reply": "2024-04-06T05:42:27.467637Z",
     "shell.execute_reply.started": "2024-04-06T05:42:27.452738Z"
    }
   },
   "outputs": [
    {
     "name": "stdout",
     "output_type": "stream",
     "text": [
      "Senetence Similarity Score : 0.5488407611846924\n"
     ]
    }
   ],
   "source": [
    "print(f\"Senetence Similarity Score : {sentence_similarity(Summarized_Text, actual_summary, embed)}\")"
   ]
  },
  {
   "cell_type": "code",
   "execution_count": 35,
   "metadata": {
    "execution": {
     "iopub.execute_input": "2024-04-06T05:50:01.036120Z",
     "iopub.status.busy": "2024-04-06T05:50:01.035704Z",
     "iopub.status.idle": "2024-04-06T05:50:01.088818Z",
     "shell.execute_reply": "2024-04-06T05:50:01.087624Z",
     "shell.execute_reply.started": "2024-04-06T05:50:01.036093Z"
    }
   },
   "outputs": [
    {
     "name": "stdout",
     "output_type": "stream",
     "text": [
      "SUMMARY : \n",
      " Muizzu has also moved the Maldives closer to China.  The Indian government has cleared the supply of several essential commodities to the Maldives, including items such as rice, wheat and onions whose exports are currently banned, amid a downturn in relations between the two sides.The government allowed the export of these commodities for 2024-25 under a bilateral mechanism at the request of the Maldivian government, the Indian high commission in Male said in a statement on Friday.\n"
     ]
    }
   ],
   "source": [
    "sample_text1 = \" The Indian government has cleared the supply of several essential commodities to the Maldives, including items such as rice, wheat and onions whose exports are currently banned, amid a downturn in relations between the two sides.\\\n",
    "The government allowed the export of these commodities for 2024-25 under a bilateral mechanism at the request of the Maldivian government, the Indian high commission in Male said in a statement on Friday. The approved quantities are also the highest since the mechanism was put in place in 1981.\\\n",
    "The clearance for the exports comes at a time when ties between India and the Maldives are at a low, especially after the election last year of President Mohamed Muizzu, who has sought to end the Indian archipelago’s dependence on India in strategic sectors. Muizzu has also moved the Maldives closer to China.\"\n",
    "\n",
    "summ_text1 = generate_extractive_summary(sample_text1, top_n = 2, embeds = embed)\n",
    "\n",
    "print(\"SUMMARY : \\n\",summ_text1)"
   ]
  },
  {
   "cell_type": "code",
   "execution_count": 36,
   "metadata": {
    "execution": {
     "iopub.execute_input": "2024-04-06T05:50:02.017477Z",
     "iopub.status.busy": "2024-04-06T05:50:02.016816Z",
     "iopub.status.idle": "2024-04-06T05:50:02.070039Z",
     "shell.execute_reply": "2024-04-06T05:50:02.068980Z",
     "shell.execute_reply.started": "2024-04-06T05:50:02.017436Z"
    }
   },
   "outputs": [
    {
     "name": "stdout",
     "output_type": "stream",
     "text": [
      "SUMMARY : \n",
      " A recent episode of Shark Tank India saw a lucrative deal that involved all five sharks on the panel — Anupam Mittal, Aman Gupta, Azhar Iqubal, Namita Thapar and Radhika Gupta. They said that their claims have been independently verified by a third-party organisation, and it was only after this that they started getting business from global brands such as Levi’s. Two co-founders representing their biomaterial science company Canvaloop, which specialises in producing alternative fibres that can reduce the environmental toll left by cotton and synthetic, asked for Rs 1 crore in exchange of 1.33% equity, valuing the company at Rs 75 crore.The founders claimed that their alternative fibres, which are created from their ‘zero-waste proprietary technology’, consumes 82% less energy, 87% less carbon emissions, and 99% less water than synthetic and cotton manufacturing.\n"
     ]
    }
   ],
   "source": [
    "sample_text2 = \"A recent episode of Shark Tank India saw a lucrative deal that involved all five sharks on the panel — \\\n",
    "Anupam Mittal, Aman Gupta, Azhar Iqubal, Namita Thapar and Radhika Gupta. Two co-founders representing their biomaterial \\\n",
    "science company Canvaloop, which specialises in producing alternative fibres that can reduce the environmental toll left by \\\n",
    "cotton and synthetic, asked for Rs 1 crore in exchange of 1.33% equity, valuing the company at Rs 75 crore.The founders claimed \\\n",
    "that their alternative fibres, which are created from their ‘zero-waste proprietary technology’, consumes 82% less energy, 87% \\\n",
    "less carbon emissions, and 99% less water than synthetic and cotton manufacturing. They said that their claims have been independently \\\n",
    "verified by a third-party organisation, and it was only after this that they started getting business from global brands such as Levi’s.\"\n",
    "\n",
    "summ_text2 = generate_extractive_summary(sample_text2, top_n = 3, embeds = embed)\n",
    "\n",
    "print(\"SUMMARY : \\n\",summ_text2)"
   ]
  },
  {
   "cell_type": "code",
   "execution_count": 40,
   "metadata": {
    "execution": {
     "iopub.execute_input": "2024-04-06T05:51:11.278919Z",
     "iopub.status.busy": "2024-04-06T05:51:11.278492Z",
     "iopub.status.idle": "2024-04-06T05:51:11.317954Z",
     "shell.execute_reply": "2024-04-06T05:51:11.316962Z",
     "shell.execute_reply.started": "2024-04-06T05:51:11.278890Z"
    }
   },
   "outputs": [],
   "source": [
    "import sumy\n",
    "from sumy.parsers.plaintext import PlaintextParser\n",
    "from sumy.nlp.tokenizers import Tokenizer\n",
    "from sumy.summarizers.lex_rank import LexRankSummarizer"
   ]
  },
  {
   "cell_type": "code",
   "execution_count": 41,
   "metadata": {
    "execution": {
     "iopub.execute_input": "2024-04-06T05:51:23.795462Z",
     "iopub.status.busy": "2024-04-06T05:51:23.795100Z",
     "iopub.status.idle": "2024-04-06T05:51:23.867268Z",
     "shell.execute_reply": "2024-04-06T05:51:23.866039Z",
     "shell.execute_reply.started": "2024-04-06T05:51:23.795435Z"
    }
   },
   "outputs": [
    {
     "name": "stdout",
     "output_type": "stream",
     "text": [
      "The chancellor is expected to freeze petrol duty and raise the stamp duty threshold from £60,000.\n",
      "Treasury officials have said there will not be a pre-election giveaway, but Mr Brown is thought to have about £2bn to spare.\n",
      "- Increase in the stamp duty threshold from £60,000 - A freeze on petrol duty - An extension of tax credit scheme for poorer families - Possible help for pensioners The stamp duty threshold rise is intended to help first time buyers - a likely theme of all three of the main parties' general election manifestos.\n",
      "The Tories say whatever the chancellor gives away will be clawed back in higher taxes if Labour is returned to power.\n",
      "\"If Labour is elected there will be a very substantial tax increase in the Budget after the election, of the order of around £10bn.\"\n"
     ]
    }
   ],
   "source": [
    "parser = PlaintextParser.from_string(Original_Text,Tokenizer(\"english\"))\n",
    "\n",
    "summarizer = LexRankSummarizer()\n",
    "#Summarize the document with 2 sentences\n",
    "summary = summarizer(parser.document, 5)\n",
    "\n",
    "for sentence in summary:\n",
    "    print(sentence)"
   ]
  },
  {
   "cell_type": "code",
   "execution_count": 53,
   "metadata": {
    "execution": {
     "iopub.execute_input": "2024-04-06T05:56:13.672063Z",
     "iopub.status.busy": "2024-04-06T05:56:13.671654Z",
     "iopub.status.idle": "2024-04-06T05:56:13.677577Z",
     "shell.execute_reply": "2024-04-06T05:56:13.676702Z",
     "shell.execute_reply.started": "2024-04-06T05:56:13.672035Z"
    }
   },
   "outputs": [],
   "source": [
    "def summarize_extractive(text):\n",
    "    parser = PlaintextParser.from_string(text,Tokenizer(\"english\"))\n",
    "\n",
    "    summarizer = LexRankSummarizer()\n",
    "    summary = summarizer(parser.document, 2)\n",
    "\n",
    "    for sentence in summary:\n",
    "        print(sentence)"
   ]
  },
  {
   "cell_type": "code",
   "execution_count": 54,
   "metadata": {
    "execution": {
     "iopub.execute_input": "2024-04-06T05:56:13.939139Z",
     "iopub.status.busy": "2024-04-06T05:56:13.938037Z",
     "iopub.status.idle": "2024-04-06T05:56:13.946671Z",
     "shell.execute_reply": "2024-04-06T05:56:13.945861Z",
     "shell.execute_reply.started": "2024-04-06T05:56:13.939091Z"
    }
   },
   "outputs": [
    {
     "name": "stdout",
     "output_type": "stream",
     "text": [
      "The Indian government has cleared the supply of several essential commodities to the Maldives, including items such as rice, wheat and onions whose exports are currently banned, amid a downturn in relations between the two sides.The government allowed the export of these commodities for 2024-25 under a bilateral mechanism at the request of the Maldivian government, the Indian high commission in Male said in a statement on Friday.\n",
      "The approved quantities are also the highest since the mechanism was put in place in 1981.The clearance for the exports comes at a time when ties between India and the Maldives are at a low, especially after the election last year of President Mohamed Muizzu, who has sought to end the Indian archipelago’s dependence on India in strategic sectors.\n"
     ]
    }
   ],
   "source": [
    "summarize_extractive(sample_text1)"
   ]
  },
  {
   "cell_type": "code",
   "execution_count": 55,
   "metadata": {
    "execution": {
     "iopub.execute_input": "2024-04-06T05:56:14.725833Z",
     "iopub.status.busy": "2024-04-06T05:56:14.725325Z",
     "iopub.status.idle": "2024-04-06T05:56:14.733812Z",
     "shell.execute_reply": "2024-04-06T05:56:14.732333Z",
     "shell.execute_reply.started": "2024-04-06T05:56:14.725795Z"
    }
   },
   "outputs": [
    {
     "name": "stdout",
     "output_type": "stream",
     "text": [
      "A recent episode of Shark Tank India saw a lucrative deal that involved all five sharks on the panel — Anupam Mittal, Aman Gupta, Azhar Iqubal, Namita Thapar and Radhika Gupta.\n",
      "Two co-founders representing their biomaterial science company Canvaloop, which specialises in producing alternative fibres that can reduce the environmental toll left by cotton and synthetic, asked for Rs 1 crore in exchange of 1.33% equity, valuing the company at Rs 75 crore.The founders claimed that their alternative fibres, which are created from their ‘zero-waste proprietary technology’, consumes 82% less energy, 87% less carbon emissions, and 99% less water than synthetic and cotton manufacturing.\n"
     ]
    }
   ],
   "source": [
    "summarize_extractive(sample_text2)"
   ]
  }
 ],
 "metadata": {
  "kaggle": {
   "accelerator": "none",
   "dataSources": [
    {
     "datasetId": 24984,
     "sourceId": 32267,
     "sourceType": "datasetVersion"
    }
   ],
   "dockerImageVersionId": 30673,
   "isGpuEnabled": false,
   "isInternetEnabled": true,
   "language": "python",
   "sourceType": "notebook"
  },
  "kernelspec": {
   "display_name": "Python 3 (ipykernel)",
   "language": "python",
   "name": "python3"
  },
  "language_info": {
   "codemirror_mode": {
    "name": "ipython",
    "version": 3
   },
   "file_extension": ".py",
   "mimetype": "text/x-python",
   "name": "python",
   "nbconvert_exporter": "python",
   "pygments_lexer": "ipython3",
   "version": "3.11.5"
  }
 },
 "nbformat": 4,
 "nbformat_minor": 4
}
